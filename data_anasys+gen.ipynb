{
 "cells": [
  {
   "cell_type": "markdown",
   "metadata": {},
   "source": [
    "# 分析原始数据\n",
    "\n",
    "## 分析split5"
   ]
  },
  {
   "cell_type": "code",
   "execution_count": 15,
   "metadata": {},
   "outputs": [],
   "source": [
    "def get_ids(anno):\n",
    "   with open(anno,'r') as f:\n",
    "      lines = f.readlines()\n",
    "         # lines\n",
    "   ids={}\n",
    "   for it in lines:\n",
    "      path, id = it.strip().split('\\t')\n",
    "      if id not in ids:\n",
    "         ids[id]=[path,1]\n",
    "      else:\n",
    "         ids[id][-1] += 1\n",
    "   return ids\n",
    "\n",
    "# def check_path(path_li,name):\n",
    "#    for it in path_li:\n",
    "#       if name not in it:\n",
    "#          print(it)\n",
    "#          return False\n",
    "#    return True"
   ]
  },
  {
   "cell_type": "code",
   "execution_count": 2,
   "metadata": {},
   "outputs": [],
   "source": [
    "train_txt = '/home/lihao/python_proj/AIGC_2025/others_work/POSE/dataset/split5_train/annotations/split5_train.txt'\n",
    "val_txt = '/home/lihao/python_proj/AIGC_2025/others_work/POSE/dataset/split5_val/annotations/split5_val.txt'\n",
    "test_txt = '/home/lihao/python_proj/AIGC_2025/others_work/POSE/dataset/split5_test/annotations/split5_test.txt'\n",
    "test_out = '/home/lihao/python_proj/AIGC_2025/others_work/POSE/dataset/split5_test/annotations/split5_test_out.txt'\n",
    "train_label = get_ids(train_txt)\n",
    "val_label = get_ids(val_txt)\n",
    "test_label = get_ids(test_txt)\n",
    "out_label = get_ids(test_out)"
   ]
  },
  {
   "cell_type": "code",
   "execution_count": 3,
   "metadata": {},
   "outputs": [],
   "source": [
    "known_classes= ['real', 'celeba_ProGAN_seed4', 'celeba_AttGAN', 'CelebA_HQ_StyleGAN', 'FFHQ_StyleGAN3_t', 'BigGAN_imagenet', 'ContraGAN_imagenet', 'lsun_ProGAN_seed4', 'lsun_InfomaxGAN', 'wav2lip', 'FaceSwap', 'stylegan_cat', 'progan_cat', 'mmdgan_bus', 'progan_bus']\n",
    "unknown_classes1=  ['celeba_ProGAN_seed0', 'celeba_ProGAN_seed1', 'celeba_ProGAN_seed2', 'celeba_ProGAN_seed3', 'celeba_ProGAN_seed5', 'lsun_ProGAN_seed0', 'lsun_ProGAN_seed1', 'lsun_ProGAN_seed2', 'lsun_ProGAN_seed3', 'lsun_ProGAN_seed5']\n",
    "unknown_classes2= ['celeba_MMDGAN', 'celeba_StarGAN', 'celeba_SNGAN', 'celeba_InfomaxGAN', 'FFHQ_StyleGAN2', 'FFHQ_StyleGAN3_r', 'CelebA_HQ_ProGAN', 'SAGAN_imagenet', 'S3GAN_imagenet', 'SNGAN_imagenet', 'lsun_SNGAN', 'lsun_MMDGAN', 'Faceshifter', 'FSGAN', 'stylegan2_cat', 'stylegan3_cat', 'mmdgan_cat', 'sngan_cat', 'stylegan_bus', 'stylegan2_bus', 'stylegan3_bus', 'sngan_bus']\n",
    "unknown_classes3=  ['mmdgan_airplane', 'mmdgan_bridge', 'mmdgan_church_outdoor', 'mmdgan_classroom', 'mmdgan_cow', 'mmdgan_kitchen', 'mmdgan_sheep', 'stylegan_airplane', 'stylegan_bridge', 'stylegan_church_outdoor', 'stylegan_classroom', 'stylegan_cow', 'stylegan_kitchen', 'stylegan_sheep', 'progan_airplane', 'progan_bridge', 'progan_church_outdoor', 'progan_classroom', 'progan_cow', 'progan_kitchen', 'progan_sheep']"
   ]
  },
  {
   "cell_type": "code",
   "execution_count": 4,
   "metadata": {},
   "outputs": [
    {
     "data": {
      "text/plain": [
       "15"
      ]
     },
     "execution_count": 4,
     "metadata": {},
     "output_type": "execute_result"
    }
   ],
   "source": [
    "len(known_classes)"
   ]
  },
  {
   "cell_type": "code",
   "execution_count": 5,
   "metadata": {},
   "outputs": [
    {
     "name": "stdout",
     "output_type": "stream",
     "text": [
      "0 real : ['./dataset/OSMA/real/FF_c23_youtube/220/220_183.png', 4021]\n",
      "1 celeba_ProGAN_seed4 : ['./dataset/OSMA/fake/ProGAN/multiseed_celeba/celeba_align_png_cropped_seed_v4/ProGAN_00002922.png', 3990]\n",
      "10 FaceSwap : ['./dataset/OSMA/fake/FaceSwap/youtube_c23/823_584/823_584_347.png', 4002]\n",
      "11 stylegan_cat : ['./dataset/OSMA/fake/styleGAN/cat/009390.png', 4005]\n",
      "12 progan_cat : ['./dataset/OSMA/fake/ProGAN/cat/005392.png', 3970]\n",
      "13 mmdgan_bus : ['./dataset/OSMA/fake/MMDGAN/bus/010676.png', 4032]\n",
      "14 progan_bus : ['./dataset/OSMA/fake/ProGAN/bus/009730.png', 3972]\n",
      "2 celeba_AttGAN : ['./dataset/OSMA/fake/AttGAN/celeba/Brown_Hair_1001.png', 3976]\n",
      "3 CelebA_HQ_StyleGAN : ['./dataset/OSMA/fake/styleGAN/celebahq/StyleGAN_celebahq_s0_00002182.png', 3956]\n",
      "4 FFHQ_StyleGAN3_t : ['./dataset/OSMA/fake/styleGAN3/stylegan3-t-ffhq-1024x1024/seed1189.png', 3975]\n",
      "5 BigGAN_imagenet : ['./dataset/OSMA/fake/BigGAN/imagenet/642/1074.png', 4036]\n",
      "6 ContraGAN_imagenet : ['./dataset/OSMA/fake/ContraGAN/imagenet/671/11979.png', 4066]\n",
      "7 lsun_ProGAN_seed4 : ['./dataset/OSMA/fake/ProGAN/multiseed_lsun/lsun_bedroom_200k_png_seed_v4/ProGAN_00003394.png', 4012]\n",
      "8 lsun_InfomaxGAN : ['./dataset/OSMA/fake/InfoMax-GAN/lsun_bedroom_200k_png/16065.png', 3967]\n",
      "9 wav2lip : ['./dataset/OSMA/fake/wav2lip/youtube_c23/1473.mp4/1473_350.png', 4018]\n"
     ]
    }
   ],
   "source": [
    "for k in sorted(train_label):\n",
    "    print(f\"{k} {known_classes[int(k)]} : {train_label[k]}\")"
   ]
  },
  {
   "cell_type": "code",
   "execution_count": 6,
   "metadata": {},
   "outputs": [
    {
     "name": "stdout",
     "output_type": "stream",
     "text": [
      "0 real : ['./dataset/OSMA/real/bus/003835.png', 483]\n",
      "1 celeba_ProGAN_seed4 : ['./dataset/OSMA/fake/ProGAN/multiseed_celeba/celeba_align_png_cropped_seed_v4/ProGAN_00008254.png', 499]\n",
      "10 FaceSwap : ['./dataset/OSMA/fake/FaceSwap/youtube_c23/161_141/161_141_356.png', 512]\n",
      "11 stylegan_cat : ['./dataset/OSMA/fake/styleGAN/cat/005936.png', 519]\n",
      "12 progan_cat : ['./dataset/OSMA/fake/ProGAN/cat/005200.png', 525]\n",
      "13 mmdgan_bus : ['./dataset/OSMA/fake/MMDGAN/bus/005386.png', 505]\n",
      "14 progan_bus : ['./dataset/OSMA/fake/ProGAN/bus/003753.png', 484]\n",
      "2 celeba_AttGAN : ['./dataset/OSMA/fake/AttGAN/celeba/Pale_Skin_416.png', 497]\n",
      "3 CelebA_HQ_StyleGAN : ['./dataset/OSMA/fake/styleGAN/celebahq/StyleGAN_celebahq_s0_00000122.png', 501]\n",
      "4 FFHQ_StyleGAN3_t : ['./dataset/OSMA/fake/styleGAN3/stylegan3-t-ffhq-1024x1024/seed2643.png', 512]\n",
      "5 BigGAN_imagenet : ['./dataset/OSMA/fake/BigGAN/imagenet/245/18705.png', 465]\n",
      "6 ContraGAN_imagenet : ['./dataset/OSMA/fake/ContraGAN/imagenet/346/10011.png', 476]\n",
      "7 lsun_ProGAN_seed4 : ['./dataset/OSMA/fake/ProGAN/multiseed_lsun/lsun_bedroom_200k_png_seed_v4/ProGAN_00001203.png', 521]\n",
      "8 lsun_InfomaxGAN : ['./dataset/OSMA/fake/InfoMax-GAN/lsun_bedroom_200k_png/15517.png', 513]\n",
      "9 wav2lip : ['./dataset/OSMA/fake/wav2lip/youtube_c23/1492.mp4/1492_1542.png', 488]\n"
     ]
    }
   ],
   "source": [
    "for k in sorted(val_label):\n",
    "    print(f\"{k} {known_classes[int(k)]} : {val_label[k]}\")"
   ]
  },
  {
   "cell_type": "code",
   "execution_count": 7,
   "metadata": {},
   "outputs": [
    {
     "name": "stdout",
     "output_type": "stream",
     "text": [
      "0 real : ['./dataset/OSMA/real/FF_c23_youtube/937/937_224.png', 994]\n",
      "1 celeba_ProGAN_seed4 : ['./dataset/OSMA/fake/ProGAN/multiseed_celeba/celeba_align_png_cropped_seed_v4/ProGAN_00003080.png', 511]\n",
      "10 FaceSwap : ['./dataset/OSMA/fake/FaceSwap/youtube_c23/020_344/020_344_285.png', 486]\n",
      "11 stylegan_cat : ['./dataset/OSMA/fake/styleGAN/cat/010163.png', 476]\n",
      "12 progan_cat : ['./dataset/OSMA/fake/ProGAN/cat/010489.png', 505]\n",
      "13 mmdgan_bus : ['./dataset/OSMA/fake/MMDGAN/bus/005761.png', 463]\n",
      "14 progan_bus : ['./dataset/OSMA/fake/ProGAN/bus/009432.png', 544]\n",
      "2 celeba_AttGAN : ['./dataset/OSMA/fake/AttGAN/celeba/Mouth_Slightly_Open_625.png', 527]\n",
      "3 CelebA_HQ_StyleGAN : ['./dataset/OSMA/fake/styleGAN/celebahq/StyleGAN_celebahq_s1_00004694.png', 543]\n",
      "4 FFHQ_StyleGAN3_t : ['./dataset/OSMA/fake/styleGAN3/stylegan3-t-ffhq-1024x1024/seed4648.png', 513]\n",
      "5 BigGAN_imagenet : ['./dataset/OSMA/fake/BigGAN/imagenet/489/10488.png', 499]\n",
      "6 ContraGAN_imagenet : ['./dataset/OSMA/fake/ContraGAN/imagenet/464/11732.png', 458]\n",
      "7 lsun_ProGAN_seed4 : ['./dataset/OSMA/fake/ProGAN/multiseed_lsun/lsun_bedroom_200k_png_seed_v4/ProGAN_00003290.png', 467]\n",
      "8 lsun_InfomaxGAN : ['./dataset/OSMA/fake/InfoMax-GAN/lsun_bedroom_200k_png/3479.png', 520]\n",
      "9 wav2lip : ['./dataset/OSMA/fake/wav2lip/youtube_c23/1071.mp4/1071_1432.png', 494]\n"
     ]
    }
   ],
   "source": [
    "for k in sorted(test_label):\n",
    "    print(f\"{k} {known_classes[int(k)]} : {test_label[k]}\")"
   ]
  },
  {
   "cell_type": "code",
   "execution_count": 8,
   "metadata": {},
   "outputs": [
    {
     "name": "stdout",
     "output_type": "stream",
     "text": [
      "0 celeba_ProGAN_seed0 : ['./dataset/OSMA/fake/ProGAN/multiseed_celeba/celeba_align_png_cropped_seed_v0/ProGAN_00001106.png', 500]\n",
      "1 celeba_ProGAN_seed1 : ['./dataset/OSMA/fake/ProGAN/multiseed_celeba/celeba_align_png_cropped_seed_v1/ProGAN_00001106.png', 500]\n",
      "10 celeba_MMDGAN : ['./dataset/OSMA/fake/MMDGAN/celeba_align_png_cropped/MMD_00011540.png', 500]\n",
      "11 celeba_StarGAN : ['./dataset/OSMA/fake/starGAN/celeba/1992-images-Blond_Hair.png', 500]\n",
      "12 celeba_SNGAN : ['./dataset/OSMA/fake/SNGAN/celeba_align_png_cropped/SNGAN_00008331.png', 500]\n",
      "13 celeba_InfomaxGAN : ['./dataset/OSMA/fake/InfoMax-GAN/celeba_align_png_cropped/12724.png', 500]\n",
      "14 FFHQ_StyleGAN2 : ['./dataset/OSMA/fake/styleGAN2/stylegan2-ffhq-config-f/StyleGAN2_s6604_00009267.png', 500]\n",
      "15 FFHQ_StyleGAN3_r : ['./dataset/OSMA/fake/styleGAN3/stylegan3-r-ffhq-1024x1024/seed4307.png', 500]\n",
      "16 CelebA_HQ_ProGAN : ['./dataset/OSMA/fake/ProGAN/celebahq/ProGAN_celebhp_s2_00011308.png', 500]\n",
      "17 SAGAN_imagenet : ['./dataset/OSMA/fake/SAGAN/imagenet/808/11386.png', 500]\n",
      "18 S3GAN_imagenet : ['./dataset/OSMA/fake/S3GAN/imagenet/00004727.png', 500]\n",
      "19 SNGAN_imagenet : ['./dataset/OSMA/fake/SNGAN/imagenet/8242.png', 500]\n",
      "2 celeba_ProGAN_seed2 : ['./dataset/OSMA/fake/ProGAN/multiseed_celeba/celeba_align_png_cropped_seed_v2/ProGAN_00001106.png', 500]\n",
      "20 lsun_SNGAN : ['./dataset/OSMA/fake/SNGAN/lsun_bedroom_200k_png/SNGAN_00008331.png', 500]\n",
      "21 lsun_MMDGAN : ['./dataset/OSMA/fake/MMDGAN/lsun_bedroom_200k_png/MMD_00011540.png', 500]\n",
      "22 Faceshifter : ['./dataset/OSMA/fake/FaceShifter/youtube_c23/t_424_s_046_26/00000010.png', 500]\n",
      "23 FSGAN : ['./dataset/OSMA/fake/FSGAN/youtube_c23/553_107.mp4/553_107_233.png', 500]\n",
      "24 stylegan2_cat : ['./dataset/OSMA/fake/styleGAN2/cat/003041.png', 500]\n",
      "25 stylegan3_cat : ['./dataset/OSMA/fake/styleGAN3/cat/003041.png', 500]\n",
      "26 mmdgan_cat : ['./dataset/OSMA/fake/MMDGAN/cat/003041.png', 500]\n",
      "27 sngan_cat : ['./dataset/OSMA/fake/SNGAN/cat/003796.png', 500]\n",
      "28 stylegan_bus : ['./dataset/OSMA/fake/styleGAN/bus/003041.png', 500]\n",
      "29 stylegan2_bus : ['./dataset/OSMA/fake/styleGAN2/bus/003796.png', 500]\n",
      "3 celeba_ProGAN_seed3 : ['./dataset/OSMA/fake/ProGAN/multiseed_celeba/celeba_align_png_cropped_seed_v3/ProGAN_00001106.png', 500]\n",
      "30 stylegan3_bus : ['./dataset/OSMA/fake/styleGAN3/bus/003041.png', 500]\n",
      "31 sngan_bus : ['./dataset/OSMA/fake/SNGAN/bus/003041.png', 500]\n",
      "32 mmdgan_airplane : ['./dataset/OSMA/fake/MMDGAN/airplane/003796.png', 500]\n",
      "33 mmdgan_bridge : ['./dataset/OSMA/fake/MMDGAN/bridge/003041.png', 500]\n",
      "34 mmdgan_church_outdoor : ['./dataset/OSMA/fake/MMDGAN/church_outdoor/003041.png', 500]\n",
      "35 mmdgan_classroom : ['./dataset/OSMA/fake/MMDGAN/classroom/003041.png', 500]\n",
      "36 mmdgan_cow : ['./dataset/OSMA/fake/MMDGAN/cow/003041.png', 500]\n",
      "37 mmdgan_kitchen : ['./dataset/OSMA/fake/MMDGAN/kitchen/003041.png', 500]\n",
      "38 mmdgan_sheep : ['./dataset/OSMA/fake/MMDGAN/sheep/003952.png', 500]\n",
      "39 stylegan_airplane : ['./dataset/OSMA/fake/styleGAN/airplane/003041.png', 500]\n",
      "4 celeba_ProGAN_seed5 : ['./dataset/OSMA/fake/ProGAN/multiseed_celeba/celeba_align_png_cropped_seed_v5/ProGAN_00001106.png', 500]\n",
      "40 stylegan_bridge : ['./dataset/OSMA/fake/styleGAN/bridge/003041.png', 500]\n",
      "41 stylegan_church_outdoor : ['./dataset/OSMA/fake/styleGAN/church_outdoor/003952.png', 500]\n",
      "42 stylegan_classroom : ['./dataset/OSMA/fake/styleGAN/classroom/003041.png', 500]\n",
      "43 stylegan_cow : ['./dataset/OSMA/fake/styleGAN/cow/003041.png', 500]\n",
      "44 stylegan_kitchen : ['./dataset/OSMA/fake/styleGAN/kitchen/003041.png', 500]\n",
      "45 stylegan_sheep : ['./dataset/OSMA/fake/styleGAN/sheep/003041.png', 500]\n",
      "46 progan_airplane : ['./dataset/OSMA/fake/ProGAN/airplane/003041.png', 500]\n",
      "47 progan_bridge : ['./dataset/OSMA/fake/ProGAN/bridge/003041.png', 500]\n",
      "48 progan_church_outdoor : ['./dataset/OSMA/fake/ProGAN/church_outdoor/003041.png', 500]\n",
      "49 progan_classroom : ['./dataset/OSMA/fake/ProGAN/classroom/003041.png', 500]\n",
      "5 lsun_ProGAN_seed0 : ['./dataset/OSMA/fake/ProGAN/multiseed_lsun/lsun_bedroom_200k_png_seed_v0/ProGAN_00001106.png', 500]\n",
      "50 progan_cow : ['./dataset/OSMA/fake/ProGAN/cow/003041.png', 500]\n",
      "51 progan_kitchen : ['./dataset/OSMA/fake/ProGAN/kitchen/003796.png', 500]\n",
      "52 progan_sheep : ['./dataset/OSMA/fake/ProGAN/sheep/003041.png', 500]\n",
      "6 lsun_ProGAN_seed1 : ['./dataset/OSMA/fake/ProGAN/multiseed_lsun/lsun_bedroom_200k_png_seed_v1/ProGAN_00001106.png', 500]\n",
      "7 lsun_ProGAN_seed2 : ['./dataset/OSMA/fake/ProGAN/multiseed_lsun/lsun_bedroom_200k_png_seed_v2/ProGAN_00001106.png', 500]\n",
      "8 lsun_ProGAN_seed3 : ['./dataset/OSMA/fake/ProGAN/multiseed_lsun/lsun_bedroom_200k_png_seed_v3/ProGAN_00001106.png', 500]\n",
      "9 lsun_ProGAN_seed5 : ['./dataset/OSMA/fake/ProGAN/multiseed_lsun/lsun_bedroom_200k_png_seed_v5/ProGAN_00001106.png', 500]\n"
     ]
    }
   ],
   "source": [
    "unknown_classes = unknown_classes1+unknown_classes2+unknown_classes3\n",
    "for k in sorted(out_label):\n",
    "    print(f\"{k} {unknown_classes[int(k)]} : {out_label[k]}\")"
   ]
  },
  {
   "cell_type": "markdown",
   "metadata": {},
   "source": [
    "## 分析自己的的"
   ]
  },
  {
   "cell_type": "code",
   "execution_count": 16,
   "metadata": {},
   "outputs": [],
   "source": [
    "\n",
    "known_classes= ['real_celeba','real_imagenet', # seen real 2\n",
    "                'ldm-text2im-large-256','controlnet-canny-sdxl-1.0','lcm-lora-sdv1-5','sd-turbo',\n",
    "                'sdxl-turbo','stable-diffusion-xl-base-1.0',\n",
    "                'stable-diffusion-xl-refiner-1.0','stable-diffusion-2-1', ## seen diffusion 8 from drct\n",
    "                'stable_diffusion_v_1_4', ## seen diffusion 1 from gen image\n",
    "                'styleGAN3','styleGAN','SNGAN','ProGAN','biggan' # 5 seen gan from pose\n",
    "                ] # as the train classes\n",
    "eval_classes= ['real_celeba','real_imagenet','real_coco','real_lsun','real_pose', # seen real 2 + unseen 3 = 5\n",
    "                'ldm-text2im-large-256','controlnet-canny-sdxl-1.0','lcm-lora-sdv1-5','sd-turbo',\n",
    "                'sdxl-turbo','stable-diffusion-xl-base-1.0',\n",
    "                'stable-diffusion-xl-refiner-1.0','stable-diffusion-2-1', ## seen diffusion 8 from drct\n",
    "                'stable_diffusion_v_1_4', ## seen diffusion 1 from gen image (total 9 seen)\n",
    "                'ADM','stable_diffusion_v_1_5','glide','wukong','VQDM','Midjourney', ## unseen diffusion from genimage 6\n",
    "                'styleGAN3','styleGAN','SNGAN','ProGAN','biggan', # 5 seen gan from pose\n",
    "                'SAGAN','S3GAN','FaceShifter','InfoMax-GAN',\n",
    "                'wav2lip','starGAN','BigGAN','FaceSwap',\n",
    "                'styleGAN2','ContraGAN','AttGAN','FSGAN', # 12 unseen gan from pose\n",
    "                'VAR' # unseen arch 1\n",
    "                ]\n",
    "\n",
    "unknown_classes = ['real_coco', 'real_lsun', 'real_pose', \n",
    "                      'ADM', 'stable_diffusion_v_1_5', 'glide',\n",
    "                      'wukong', 'VQDM', 'Midjourney', \n",
    "                      'MMDGAN', 'SAGAN', 'S3GAN', \n",
    "                      'FaceShifter', 'InfoMax-GAN', 'wav2lip', \n",
    "                      'starGAN', 'FaceSwap', 'styleGAN2', \n",
    "                      'ContraGAN', 'AttGAN', 'FSGAN', \n",
    "                      'VAR']\n"
   ]
  },
  {
   "cell_type": "code",
   "execution_count": 10,
   "metadata": {},
   "outputs": [
    {
     "data": {
      "text/plain": [
       "16"
      ]
     },
     "execution_count": 10,
     "metadata": {},
     "output_type": "execute_result"
    }
   ],
   "source": [
    "len(known_classes)"
   ]
  },
  {
   "cell_type": "code",
   "execution_count": 17,
   "metadata": {},
   "outputs": [],
   "source": [
    "def get_ids(anno,class_li):\n",
    "   with open(anno,'r') as f:\n",
    "      lines = f.readlines()\n",
    "         # lines\n",
    "   ids={}\n",
    "   for it in lines:\n",
    "      path, id = it.strip().split('\\t')\n",
    "      if class_li[int(id)] not in path:\n",
    "          print(path)\n",
    "          \n",
    "      if id not in ids:\n",
    "         ids[id]=[path,1]\n",
    "      else:\n",
    "         ids[id][-1] += 1\n",
    "   return ids"
   ]
  },
  {
   "cell_type": "code",
   "execution_count": 19,
   "metadata": {},
   "outputs": [
    {
     "name": "stdout",
     "output_type": "stream",
     "text": [
      "0 real_celeba : ['./dataset/dif-gan/mix_data_new/train/real_celeba/057240.jpg', 5000]\n",
      "1 real_imagenet : ['./dataset/dif-gan/mix_data_new/train/real_imagenet/n04081281_1024.JPEG', 5000]\n",
      "10 stable_diffusion_v_1_4 : ['./dataset/dif-gan/mix_data_new/train/stable_diffusion_v_1_4/903_sdv4_00086.png', 5000]\n",
      "11 styleGAN3 : ['./dataset/dif-gan/mix_data_new/train/styleGAN3/cat_004912.png', 5000]\n",
      "12 styleGAN : ['./dataset/dif-gan/mix_data_new/train/styleGAN/bus_009371.png', 5000]\n",
      "13 SNGAN : ['./dataset/dif-gan/mix_data_new/train/SNGAN/airplane_004831.png', 5000]\n",
      "14 ProGAN : ['./dataset/dif-gan/mix_data_new/train/ProGAN/lsun_bedroom_200k_png_seed_v3_ProGAN_00006741.png', 5000]\n",
      "15 biggan : ['./dataset/dif-gan/mix_data_new/train/biggan/903_biggan_00085.png', 5000]\n",
      "2 ldm-text2im-large-256 : ['./dataset/dif-gan/mix_data_new/train/ldm-text2im-large-256/000000009452.jpg', 5000]\n",
      "3 controlnet-canny-sdxl-1.0 : ['./dataset/dif-gan/mix_data_new/train/controlnet-canny-sdxl-1.0/000000009452.jpg', 5000]\n",
      "4 lcm-lora-sdv1-5 : ['./dataset/dif-gan/mix_data_new/train/lcm-lora-sdv1-5/000000009452.jpg', 5000]\n",
      "5 sd-turbo : ['./dataset/dif-gan/mix_data_new/train/sd-turbo/000000009452.jpg', 5000]\n",
      "6 sdxl-turbo : ['./dataset/dif-gan/mix_data_new/train/sdxl-turbo/000000009452.jpg', 5000]\n",
      "7 stable-diffusion-xl-base-1.0 : ['./dataset/dif-gan/mix_data_new/train/stable-diffusion-xl-base-1.0/000000009452.jpg', 5000]\n",
      "8 stable-diffusion-xl-refiner-1.0 : ['./dataset/dif-gan/mix_data_new/train/stable-diffusion-xl-refiner-1.0/000000009452.jpg', 5000]\n",
      "9 stable-diffusion-2-1 : ['./dataset/dif-gan/mix_data_new/train/stable-diffusion-2-1/000000009452.jpg', 5000]\n"
     ]
    }
   ],
   "source": [
    "train_txt = '/home/lihao/python_proj/AIGC_2025/others_work/POSE/dataset/dif-gan/train/annotations/train.txt'\n",
    "val_txt = '/home/lihao/python_proj/AIGC_2025/others_work/POSE/dataset/dif-gan/val/annotations/val.txt'\n",
    "test_txt = '/home/lihao/python_proj/AIGC_2025/others_work/POSE/dataset/dif-gan/test_know_data.txt'\n",
    "test_out = '/home/lihao/python_proj/AIGC_2025/others_work/POSE/dataset/dif-gan/test_unknow_data.txt'\n",
    "train_label = get_ids(train_txt,known_classes)\n",
    "val_label = get_ids(val_txt,known_classes)\n",
    "test_label = get_ids(test_txt,known_classes)\n",
    "out_label = get_ids(test_out,unknown_classes)\n",
    "\n",
    "for k in sorted(train_label):\n",
    "    print(f\"{k} {known_classes[int(k)]} : {train_label[k]}\")\n"
   ]
  },
  {
   "cell_type": "code",
   "execution_count": 12,
   "metadata": {},
   "outputs": [
    {
     "name": "stdout",
     "output_type": "stream",
     "text": [
      "real_celeba : ['./dataset/dif-gan/mix_data_new/train/real_celeba/115252.jpg', 1000]\n",
      "real_imagenet : ['./dataset/dif-gan/mix_data_new/train/real_imagenet/n04540053_17321.JPEG', 1000]\n",
      "stable_diffusion_v_1_4 : ['./dataset/dif-gan/mix_data_new/train/stable_diffusion_v_1_4/176_sdv4_00089.png', 1000]\n",
      "styleGAN3 : ['./dataset/dif-gan/mix_data_new/train/styleGAN3/church_outdoor_004211.png', 1000]\n",
      "styleGAN : ['./dataset/dif-gan/mix_data_new/train/styleGAN/celebahq_StyleGAN_celebahq_s0_00003697.png', 1000]\n",
      "SNGAN : ['./dataset/dif-gan/mix_data_new/train/SNGAN/imagenet_553.png', 1000]\n",
      "ProGAN : ['./dataset/dif-gan/mix_data_new/train/ProGAN/sheep_003435.png', 1000]\n",
      "biggan : ['./dataset/dif-gan/mix_data_new/train/biggan/176_biggan_00078.png', 1000]\n",
      "ldm-text2im-large-256 : ['./dataset/dif-gan/mix_data_new/train/ldm-text2im-large-256/000000516625.jpg', 1000]\n",
      "controlnet-canny-sdxl-1.0 : ['./dataset/dif-gan/mix_data_new/train/controlnet-canny-sdxl-1.0/000000516625.jpg', 1000]\n",
      "lcm-lora-sdv1-5 : ['./dataset/dif-gan/mix_data_new/train/lcm-lora-sdv1-5/000000516625.jpg', 1000]\n",
      "sd-turbo : ['./dataset/dif-gan/mix_data_new/train/sd-turbo/000000516625.jpg', 1000]\n",
      "sdxl-turbo : ['./dataset/dif-gan/mix_data_new/train/sdxl-turbo/000000516625.jpg', 1000]\n",
      "stable-diffusion-xl-base-1.0 : ['./dataset/dif-gan/mix_data_new/train/stable-diffusion-xl-base-1.0/000000516625.jpg', 1000]\n",
      "stable-diffusion-xl-refiner-1.0 : ['./dataset/dif-gan/mix_data_new/train/stable-diffusion-xl-refiner-1.0/000000516625.jpg', 1000]\n",
      "stable-diffusion-2-1 : ['./dataset/dif-gan/mix_data_new/train/stable-diffusion-2-1/000000516625.jpg', 1000]\n"
     ]
    }
   ],
   "source": [
    "for k in sorted(val_label):\n",
    "    print(f\"{known_classes[int(k)]} : {val_label[k]}\")"
   ]
  },
  {
   "cell_type": "code",
   "execution_count": 13,
   "metadata": {},
   "outputs": [
    {
     "name": "stdout",
     "output_type": "stream",
     "text": [
      "real_celeba : ['./dataset/dif-gan/mix_data_new/eval/real_celeba/051600.jpg', 1000]\n",
      "real_imagenet : ['./dataset/dif-gan/mix_data_new/eval/real_imagenet/n03873416_1657.JPEG', 1000]\n",
      "stable_diffusion_v_1_4 : ['./dataset/dif-gan/mix_data_new/eval/stable_diffusion_v_1_4/762_sdv4_00127.png', 1000]\n",
      "styleGAN3 : ['./dataset/dif-gan/mix_data_new/eval/styleGAN3/bus_011079.png', 1000]\n",
      "styleGAN : ['./dataset/dif-gan/mix_data_new/eval/styleGAN/kitchen_003460.png', 1000]\n",
      "SNGAN : ['./dataset/dif-gan/mix_data_new/eval/SNGAN/bus_003421.png', 1000]\n",
      "ProGAN : ['./dataset/dif-gan/mix_data_new/eval/ProGAN/lsun_bedroom_200k_png_seed_v1_ProGAN_00007785.png', 1000]\n",
      "biggan : ['./dataset/dif-gan/mix_data_new/eval/biggan/762_biggan_00127.png', 1000]\n",
      "ldm-text2im-large-256 : ['./dataset/dif-gan/mix_data_new/eval/ldm-text2im-large-256/000000025393.jpg', 1000]\n",
      "controlnet-canny-sdxl-1.0 : ['./dataset/dif-gan/mix_data_new/eval/controlnet-canny-sdxl-1.0/000000025393.jpg', 1000]\n",
      "lcm-lora-sdv1-5 : ['./dataset/dif-gan/mix_data_new/eval/lcm-lora-sdv1-5/000000025393.jpg', 1000]\n",
      "sd-turbo : ['./dataset/dif-gan/mix_data_new/eval/sd-turbo/000000025393.jpg', 1000]\n",
      "sdxl-turbo : ['./dataset/dif-gan/mix_data_new/eval/sdxl-turbo/000000025393.jpg', 1000]\n",
      "stable-diffusion-xl-base-1.0 : ['./dataset/dif-gan/mix_data_new/eval/stable-diffusion-xl-base-1.0/000000025393.jpg', 1000]\n",
      "stable-diffusion-xl-refiner-1.0 : ['./dataset/dif-gan/mix_data_new/eval/stable-diffusion-xl-refiner-1.0/000000025393.jpg', 1000]\n",
      "stable-diffusion-2-1 : ['./dataset/dif-gan/mix_data_new/eval/stable-diffusion-2-1/000000025393.jpg', 1000]\n"
     ]
    }
   ],
   "source": [
    "for k in sorted( test_label):\n",
    "    print(f\"{known_classes[int(k)]} : {test_label[k]}\")"
   ]
  },
  {
   "cell_type": "code",
   "execution_count": 20,
   "metadata": {},
   "outputs": [
    {
     "name": "stdout",
     "output_type": "stream",
     "text": [
      "0 real_coco : ['./dataset/dif-gan/mix_data_new/eval/real_coco/000000240455.jpg', 1000]\n",
      "1 real_lsun : ['./dataset/dif-gan/mix_data_new/eval/real_lsun/person_19766.png', 1000]\n",
      "10 SAGAN : ['./dataset/dif-gan/mix_data_new/eval/SAGAN/845_3186.png', 1000]\n",
      "11 S3GAN : ['./dataset/dif-gan/mix_data_new/eval/S3GAN/imagenet_00000278.png', 1000]\n",
      "12 FaceShifter : ['./dataset/dif-gan/mix_data_new/eval/FaceShifter/t_672_s_594_262_00000011.png', 1000]\n",
      "13 InfoMax-GAN : ['./dataset/dif-gan/mix_data_new/eval/InfoMax-GAN/celeba_align_png_cropped_15513.png', 1000]\n",
      "14 wav2lip : ['./dataset/dif-gan/mix_data_new/eval/wav2lip/601.mp4_601_496.png', 1000]\n",
      "15 starGAN : ['./dataset/dif-gan/mix_data_new/eval/starGAN/celeba_636-images-Young.png', 1000]\n",
      "16 FaceSwap : ['./dataset/dif-gan/mix_data_new/eval/FaceSwap/670_661_670_661_468.png', 1000]\n",
      "17 styleGAN2 : ['./dataset/dif-gan/mix_data_new/eval/styleGAN2/stylegan2-ffhq-config-f_StyleGAN2_s6603_00007950.png', 1000]\n",
      "18 ContraGAN : ['./dataset/dif-gan/mix_data_new/eval/ContraGAN/815_1948.png', 1000]\n",
      "19 AttGAN : ['./dataset/dif-gan/mix_data_new/eval/AttGAN/celeba_Brown_Hair_503.png', 1000]\n",
      "2 real_pose : ['./dataset/dif-gan/mix_data_new/eval/real_pose/780_387.png', 1000]\n",
      "20 FSGAN : ['./dataset/dif-gan/mix_data_new/eval/FSGAN/894_699.mp4_894_699_275.png', 1000]\n",
      "21 VAR : ['./dataset/dif-gan/mix_data_new/eval/VAR/00000865.png', 1000]\n",
      "3 ADM : ['./dataset/dif-gan/mix_data_new/eval/ADM/787_adm_85.PNG', 1000]\n",
      "4 stable_diffusion_v_1_5 : ['./dataset/dif-gan/mix_data_new/eval/stable_diffusion_v_1_5/637_sdv5_00027.png', 1000]\n",
      "5 glide : ['./dataset/dif-gan/mix_data_new/eval/glide/GLIDE_1000_200_07_762_glide_00127.png', 1000]\n",
      "6 wukong : ['./dataset/dif-gan/mix_data_new/eval/wukong/787_wukong_image86.png', 1000]\n",
      "7 VQDM : ['./dataset/dif-gan/mix_data_new/eval/VQDM/VQDM_1000_200_07_762_vqdm_00127.png', 1000]\n",
      "8 Midjourney : ['./dataset/dif-gan/mix_data_new/eval/Midjourney/787_midjourney_34.png', 1000]\n",
      "9 MMDGAN : ['./dataset/dif-gan/mix_data_new/eval/MMDGAN/bridge_003748.png', 1000]\n"
     ]
    }
   ],
   "source": [
    "for k in sorted(out_label):\n",
    "    print(f\"{k} {unknown_classes[int(k)]} : {out_label[k]}\")"
   ]
  },
  {
   "cell_type": "code",
   "execution_count": null,
   "metadata": {},
   "outputs": [],
   "source": []
  },
  {
   "cell_type": "code",
   "execution_count": 19,
   "metadata": {},
   "outputs": [],
   "source": [
    "new_idd = {k:sorted(idd[k].items()) for k in idd}"
   ]
  },
  {
   "cell_type": "code",
   "execution_count": 24,
   "metadata": {},
   "outputs": [
    {
     "name": "stdout",
     "output_type": "stream",
     "text": [
      "数据已成功保存到 output.csv\n"
     ]
    }
   ],
   "source": [
    "lines = []\n",
    "for it1,it2,it3,it4,it5 in zip(new_idd[0],new_idd[1],new_idd[2],new_idd[3],new_idd[4]):\n",
    "    for it in zip(it1,it2,it3,it4,it5):\n",
    "        lines.append(it)\n",
    "\n",
    "import csv\n",
    "file_name = \"output.csv\"\n",
    "# 打开文件并写入\n",
    "with open(file_name, mode=\"w\", newline=\"\", encoding=\"utf-8\") as file:\n",
    "    writer = csv.writer(file)\n",
    "    # 写入嵌套列表中的每一行\n",
    "    writer.writerows(lines)\n",
    "\n",
    "print(f\"数据已成功保存到 {file_name}\")\n"
   ]
  },
  {
   "cell_type": "code",
   "execution_count": 23,
   "metadata": {},
   "outputs": [
    {
     "data": {
      "text/plain": [
       "[('0', './dataset/OSMA/real/FF_c23_youtube/220/220_183.png'),\n",
       " ('1',\n",
       "  './dataset/OSMA/fake/ProGAN/multiseed_celeba/celeba_align_png_cropped_seed_v0/ProGAN_00000307.png'),\n",
       " ('10', './dataset/OSMA/fake/FSGAN/youtube_c23/913_355.mp4/913_355_104.png'),\n",
       " ('11', './dataset/OSMA/fake/styleGAN/cat/009390.png'),\n",
       " ('12', './dataset/OSMA/fake/styleGAN3/cat/005912.png'),\n",
       " ('13', './dataset/OSMA/fake/styleGAN/bus/010821.png'),\n",
       " ('14', './dataset/OSMA/fake/ProGAN/bus/009730.png'),\n",
       " ('2', './dataset/OSMA/fake/starGAN/celeba/1873-images-Male.png'),\n",
       " ('3',\n",
       "  './dataset/OSMA/fake/styleGAN3/stylegan3-r-ffhq-1024x1024/seed4515.png'),\n",
       " ('4',\n",
       "  './dataset/OSMA/fake/styleGAN3/stylegan3-t-ffhq-1024x1024/seed1189.png'),\n",
       " ('5', './dataset/OSMA/fake/SNGAN/imagenet/8709.png'),\n",
       " ('6', './dataset/OSMA/fake/SAGAN/imagenet/75/12791.png'),\n",
       " ('7',\n",
       "  './dataset/OSMA/fake/ProGAN/multiseed_lsun/lsun_bedroom_200k_png_seed_v0/ProGAN_00003768.png'),\n",
       " ('8', './dataset/OSMA/fake/MMDGAN/lsun_bedroom_200k_png/MMD_00018984.png'),\n",
       " ('9', './dataset/OSMA/fake/FaceSwap/youtube_c23/053_095/053_095_204.png')]"
      ]
     },
     "execution_count": 23,
     "metadata": {},
     "output_type": "execute_result"
    }
   ],
   "source": [
    "new_idd[0]"
   ]
  },
  {
   "cell_type": "code",
   "execution_count": 48,
   "metadata": {},
   "outputs": [
    {
     "data": {
      "text/plain": [
       "[('0', './dataset/OSMA/fake/MMDGAN/airplane/003796.png'),\n",
       " ('1', './dataset/OSMA/fake/MMDGAN/bridge/003041.png'),\n",
       " ('10', './dataset/OSMA/fake/styleGAN/classroom/003041.png'),\n",
       " ('11', './dataset/OSMA/fake/styleGAN/cow/003041.png'),\n",
       " ('12', './dataset/OSMA/fake/styleGAN/kitchen/003041.png'),\n",
       " ('13', './dataset/OSMA/fake/styleGAN/sheep/003041.png'),\n",
       " ('14', './dataset/OSMA/fake/ProGAN/airplane/003041.png'),\n",
       " ('15', './dataset/OSMA/fake/ProGAN/bridge/003041.png'),\n",
       " ('16', './dataset/OSMA/fake/ProGAN/church_outdoor/003041.png'),\n",
       " ('17', './dataset/OSMA/fake/ProGAN/classroom/003041.png'),\n",
       " ('18', './dataset/OSMA/fake/ProGAN/cow/003041.png'),\n",
       " ('19', './dataset/OSMA/fake/ProGAN/kitchen/003796.png'),\n",
       " ('2', './dataset/OSMA/fake/MMDGAN/church_outdoor/003041.png'),\n",
       " ('20', './dataset/OSMA/fake/ProGAN/sheep/003041.png'),\n",
       " ('3', './dataset/OSMA/fake/MMDGAN/classroom/003041.png'),\n",
       " ('4', './dataset/OSMA/fake/MMDGAN/cow/003041.png'),\n",
       " ('5', './dataset/OSMA/fake/MMDGAN/kitchen/003041.png'),\n",
       " ('6', './dataset/OSMA/fake/MMDGAN/sheep/003952.png'),\n",
       " ('7', './dataset/OSMA/fake/styleGAN/airplane/003041.png'),\n",
       " ('8', './dataset/OSMA/fake/styleGAN/bridge/003041.png'),\n",
       " ('9', './dataset/OSMA/fake/styleGAN/church_outdoor/003952.png')]"
      ]
     },
     "execution_count": 48,
     "metadata": {},
     "output_type": "execute_result"
    }
   ],
   "source": [
    "sorted(get_ids('/home/lihao/python_proj/AIGC_2025/others_work/POSE/dataset/split5_test/annotations/split5_test_out_dataset.txt').items())"
   ]
  },
  {
   "cell_type": "code",
   "execution_count": 35,
   "metadata": {},
   "outputs": [],
   "source": [
    "import yaml\n",
    "with open('/home/lihao/python_proj/AIGC_2025/others_work/POSE/configs/data_list.yaml') as f:\n",
    "    data = yaml.safe_load(f)"
   ]
  },
  {
   "cell_type": "code",
   "execution_count": 46,
   "metadata": {},
   "outputs": [
    {
     "name": "stdout",
     "output_type": "stream",
     "text": [
      "known_classes len: 15   ['real', 'celeba_ProGAN_seed1', 'celeba_InfomaxGAN', 'CelebA_HQ_StyleGAN', 'FFHQ_StyleGAN3_t', 'ContraGAN_imagenet', 'SNGAN_imagenet', 'lsun_ProGAN_seed1', 'lsun_SNGAN', 'Faceshifter', 'FSGAN', 'sngan_cat', 'stylegan2_cat', 'stylegan_bus', 'stylegan3_bus']\n",
      "unknown_classes1 len: 10   ['celeba_ProGAN_seed0', 'celeba_ProGAN_seed2', 'celeba_ProGAN_seed3', 'celeba_ProGAN_seed4', 'celeba_ProGAN_seed5', 'lsun_ProGAN_seed0', 'lsun_ProGAN_seed2', 'lsun_ProGAN_seed3', 'lsun_ProGAN_seed4', 'lsun_ProGAN_seed5']\n",
      "unknown_classes2 len: 22   ['celeba_MMDGAN', 'celeba_StarGAN', 'celeba_AttGAN', 'celeba_SNGAN', 'FFHQ_StyleGAN2', 'FFHQ_StyleGAN3_r', 'CelebA_HQ_ProGAN', 'BigGAN_imagenet', 'SAGAN_imagenet', 'S3GAN_imagenet', 'lsun_MMDGAN', 'lsun_InfomaxGAN', 'FaceSwap', 'wav2lip', 'stylegan_cat', 'stylegan3_cat', 'progan_cat', 'mmdgan_cat', 'stylegan2_bus', 'progan_bus', 'mmdgan_bus', 'sngan_bus']\n",
      "unknown_classes3 len: 21   ['stylegan_airplane', 'stylegan_bridge', 'stylegan_church_outdoor', 'stylegan_classroom', 'stylegan_cow', 'stylegan_kitchen', 'stylegan_sheep', 'stylegan3_airplane', 'stylegan3_bridge', 'stylegan3_church_outdoor', 'stylegan3_classroom', 'stylegan3_cow', 'stylegan3_kitchen', 'stylegan3_sheep', 'sngan_airplane', 'sngan_bridge', 'sngan_church_outdoor', 'sngan_classroom', 'sngan_cow', 'sngan_kitchen', 'sngan_sheep']\n"
     ]
    }
   ],
   "source": [
    "split = 'split2'\n",
    "for k in data[split].keys():\n",
    "    if 'class' in k:\n",
    "        print(f\"{k} len: {len(data[split][k])}   {data[split][k]}\")"
   ]
  },
  {
   "cell_type": "code",
   "execution_count": 49,
   "metadata": {},
   "outputs": [],
   "source": [
    "with open('/home/lihao/python_proj/AIGC_2025/others_work/POSE/dataset/split3_train/annotations/split3_train.txt','r' ) as f:\n",
    "    data = f.readlines()\n",
    "    "
   ]
  },
  {
   "cell_type": "code",
   "execution_count": 50,
   "metadata": {},
   "outputs": [
    {
     "data": {
      "text/plain": [
       "59998"
      ]
     },
     "execution_count": 50,
     "metadata": {},
     "output_type": "execute_result"
    }
   ],
   "source": [
    "len(data)"
   ]
  },
  {
   "cell_type": "code",
   "execution_count": 53,
   "metadata": {},
   "outputs": [
    {
     "data": {
      "text/plain": [
       "8000"
      ]
     },
     "execution_count": 53,
     "metadata": {},
     "output_type": "execute_result"
    }
   ],
   "source": [
    "with open('/home/lihao/python_proj/AIGC_2025/others_work/POSE/dataset/split4_test/annotations/split4_test.txt','r' ) as f:\n",
    "    data = f.readlines()\n",
    "len(data)"
   ]
  },
  {
   "cell_type": "code",
   "execution_count": 55,
   "metadata": {},
   "outputs": [
    {
     "data": {
      "text/plain": [
       "11000"
      ]
     },
     "execution_count": 55,
     "metadata": {},
     "output_type": "execute_result"
    }
   ],
   "source": [
    "with open('/home/lihao/python_proj/AIGC_2025/others_work/POSE/dataset/split5_test/annotations/split5_test_out_arch.txt','r' ) as f:\n",
    "    data = f.readlines()\n",
    "len(data)"
   ]
  },
  {
   "cell_type": "code",
   "execution_count": 56,
   "metadata": {},
   "outputs": [
    {
     "data": {
      "text/plain": [
       "{'13': './dataset/OSMA/fake/SNGAN/bus/005626.png',\n",
       " '11': './dataset/OSMA/fake/ProGAN/cat/010384.png',\n",
       " '2': './dataset/OSMA/fake/SNGAN/celeba_align_png_cropped/SNGAN_00002202.png',\n",
       " '9': './dataset/OSMA/fake/wav2lip/youtube_c23/1071.mp4/1071_1432.png',\n",
       " '3': './dataset/OSMA/fake/styleGAN3/stylegan3-r-ffhq-1024x1024/seed3578.png',\n",
       " '6': './dataset/OSMA/fake/ContraGAN/imagenet/464/11732.png',\n",
       " '10': './dataset/OSMA/fake/FSGAN/youtube_c23/453_659.mp4/453_659_157.png',\n",
       " '5': './dataset/OSMA/fake/BigGAN/imagenet/489/10488.png',\n",
       " '12': './dataset/OSMA/fake/MMDGAN/cat/010651.png',\n",
       " '14': './dataset/OSMA/fake/MMDGAN/bus/009253.png',\n",
       " '8': './dataset/OSMA/fake/SNGAN/lsun_bedroom_200k_png/SNGAN_00001148.png',\n",
       " '1': './dataset/OSMA/fake/ProGAN/multiseed_celeba/celeba_align_png_cropped_seed_v3/ProGAN_00003080.png',\n",
       " '4': './dataset/OSMA/fake/ProGAN/celebahq/ProGAN_celebhp_s3_00014405.png',\n",
       " '0': './dataset/OSMA/real/FF_c23_youtube/937/937_224.png',\n",
       " '7': './dataset/OSMA/fake/ProGAN/multiseed_lsun/lsun_bedroom_200k_png_seed_v3/ProGAN_00003290.png'}"
      ]
     },
     "execution_count": 56,
     "metadata": {},
     "output_type": "execute_result"
    }
   ],
   "source": [
    "get_ids('/home/lihao/python_proj/AIGC_2025/others_work/POSE/dataset/split4_test/annotations/split4_test.txt')"
   ]
  },
  {
   "cell_type": "code",
   "execution_count": 57,
   "metadata": {},
   "outputs": [],
   "source": [
    "known_classes = ['real', 'celeba_ProGAN_seed0', 'celeba_StarGAN', 'FFHQ_StyleGAN3_r', 'FFHQ_StyleGAN3_t', 'SNGAN_imagenet', 'SAGAN_imagenet', 'lsun_ProGAN_seed0', 'lsun_MMDGAN', 'FaceSwap', 'FSGAN', 'stylegan_cat', 'stylegan3_cat', 'stylegan_bus', 'progan_bus']\n",
    "unknown_classes = ['celeba_MMDGAN', 'celeba_AttGAN', 'celeba_SNGAN', 'celeba_InfomaxGAN', \\\n",
    "                   'FFHQ_StyleGAN2', 'CelebA_HQ_ProGAN', 'CelebA_HQ_StyleGAN', \\\n",
    "                   'BigGAN_imagenet', 'S3GAN_imagenet', 'ContraGAN_imagenet', \\\n",
    "                   'lsun_SNGAN', 'lsun_InfomaxGAN', \\\n",
    "                   'Faceshifter', 'wav2lip', \\\n",
    "                   'stylegan2_cat', 'progan_cat', 'mmdgan_cat', 'sngan_cat', \\\n",
    "                   'stylegan2_bus', 'stylegan3_bus', 'mmdgan_bus', 'sngan_bus']"
   ]
  },
  {
   "cell_type": "code",
   "execution_count": 58,
   "metadata": {},
   "outputs": [
    {
     "data": {
      "text/plain": [
       "15"
      ]
     },
     "execution_count": 58,
     "metadata": {},
     "output_type": "execute_result"
    }
   ],
   "source": [
    "len(known_classes)"
   ]
  },
  {
   "cell_type": "code",
   "execution_count": 59,
   "metadata": {},
   "outputs": [
    {
     "data": {
      "text/plain": [
       "22"
      ]
     },
     "execution_count": 59,
     "metadata": {},
     "output_type": "execute_result"
    }
   ],
   "source": [
    "len(unknown_classes)"
   ]
  },
  {
   "cell_type": "markdown",
   "metadata": {},
   "source": [
    "## 生成测试数据"
   ]
  },
  {
   "cell_type": "code",
   "execution_count": 8,
   "metadata": {},
   "outputs": [],
   "source": [
    "# todo:diffusion 采样5000条数据，写在路径中\n",
    "import random\n",
    "import os\n",
    "from PIL import Image\n",
    "\n",
    "gen_image_path = '/home/lihao/python_proj/AIGC_2025/others_work/POSE/genimage/genimage'\n",
    "file_dict = {}\n",
    "for r in os.listdir(gen_image_path):\n",
    "    if 'gan' not in r and 'VAR' not in r :\n",
    "        d = os.path.join(gen_image_path,r)\n",
    "        for rr in os.listdir(d):\n",
    "            if os.path.isdir(os.path.join(d,rr)):\n",
    "                dd = os.path.join(d,rr,'train','ai')\n",
    "                file_names = os.listdir(dd)\n",
    "                file_dict[r] = [os.path.join(dd,x) for x in file_names]\n",
    "\n",
    "                \n",
    "\n",
    "# select names:\n",
    "genimage_result = {}\n",
    "for k in file_dict:\n",
    "    li = file_dict[k]\n",
    "    random.seed(0)\n",
    "    genimage_result[k]=random.choices(li,k=5000)\n",
    "    "
   ]
  },
  {
   "cell_type": "code",
   "execution_count": 17,
   "metadata": {},
   "outputs": [],
   "source": [
    "# sample from DRCT-2M\n",
    "names = ['ldm-text2im-large-256', #\n",
    " 'controlnet-canny-sdxl-1.0', # \n",
    " 'lcm-lora-sdv1-5', # \n",
    " 'sd-turbo', #\n",
    " 'sdxl-turbo', #\n",
    " 'stable-diffusion-xl-base-1.0', #\n",
    " 'stable-diffusion-xl-refiner-1.0', #\n",
    " 'stable-diffusion-2-1'] #\n",
    "drct_path = '/home/lihao/python_proj/AIGC_2025/others_work/POSE/genimage/AIGC_Datasets/DRCT-2M/images'\n",
    "drct_dict = {}\n",
    "for n in names:\n",
    "    d = os.path.join(drct_path,n,'train2017')\n",
    "    random.seed(0)\n",
    "    drct_dict[n] = [os.path.join(d,x) for x in random.choices(os.listdir(d),k=5000)]\n"
   ]
  },
  {
   "cell_type": "code",
   "execution_count": 18,
   "metadata": {},
   "outputs": [],
   "source": [
    "from PIL import Image\n",
    "\n",
    "def is_image_openable(image_path):\n",
    "    \"\"\"\n",
    "    检测图片是否能够正确打开\n",
    "    :param image_path: 图片文件路径\n",
    "    :return: True (图片可打开) 或 False (图片不可打开)\n",
    "    \"\"\"\n",
    "    try:\n",
    "        with Image.open(image_path) as img:\n",
    "            img.verify()  # 验证图片文件是否完整\n",
    "        return True\n",
    "    except Exception as e:\n",
    "        print(e)\n",
    "        return False\n",
    "\n",
    "all_res = genimage_result | drct_dict\n",
    "keys = []\n",
    "datalist = []\n",
    "for k in all_res:\n",
    "    keys.append(k)\n",
    "    datalist += [x for x in all_res[k] if is_image_openable(x)]"
   ]
  },
  {
   "cell_type": "code",
   "execution_count": 19,
   "metadata": {},
   "outputs": [
    {
     "data": {
      "text/plain": [
       "15"
      ]
     },
     "execution_count": 19,
     "metadata": {},
     "output_type": "execute_result"
    }
   ],
   "source": [
    "len(keys)"
   ]
  },
  {
   "cell_type": "code",
   "execution_count": 20,
   "metadata": {},
   "outputs": [
    {
     "data": {
      "text/plain": [
       "75000"
      ]
     },
     "execution_count": 20,
     "metadata": {},
     "output_type": "execute_result"
    }
   ],
   "source": [
    "len(datalist)"
   ]
  },
  {
   "cell_type": "code",
   "execution_count": 21,
   "metadata": {},
   "outputs": [],
   "source": [
    "import json\n",
    "with open('/home/lihao/python_proj/AIGC_2025/others_work/POSE/dataset/diffusion_test/detailed_info.json', 'w', encoding='utf-8') as file:\n",
    "    json.dump(all_res, file, ensure_ascii=False, indent=2)"
   ]
  },
  {
   "cell_type": "code",
   "execution_count": 22,
   "metadata": {},
   "outputs": [],
   "source": [
    "with open('/home/lihao/python_proj/AIGC_2025/others_work/POSE/dataset/diffusion_test/out.txt','w') as f:\n",
    "    for i,k in enumerate(all_res):\n",
    "        for p in all_res[k]:\n",
    "            f.write(f'{p}\\t{i}\\n')\n",
    "        "
   ]
  },
  {
   "cell_type": "code",
   "execution_count": 23,
   "metadata": {},
   "outputs": [
    {
     "data": {
      "text/plain": [
       "['ADM',\n",
       " 'stable_diffusion_v_1_5',\n",
       " 'stable_diffusion_v_1_4',\n",
       " 'glide',\n",
       " 'wukong',\n",
       " 'VQDM',\n",
       " 'Midjourney',\n",
       " 'ldm-text2im-large-256',\n",
       " 'controlnet-canny-sdxl-1.0',\n",
       " 'lcm-lora-sdv1-5',\n",
       " 'sd-turbo',\n",
       " 'sdxl-turbo',\n",
       " 'stable-diffusion-xl-base-1.0',\n",
       " 'stable-diffusion-xl-refiner-1.0',\n",
       " 'stable-diffusion-2-1']"
      ]
     },
     "execution_count": 23,
     "metadata": {},
     "output_type": "execute_result"
    },
    {
     "ename": "",
     "evalue": "",
     "output_type": "error",
     "traceback": [
      "\u001b[1;31m在当前单元格或上一个单元格中执行代码时 Kernel 崩溃。\n",
      "\u001b[1;31m请查看单元格中的代码，以确定故障的可能原因。\n",
      "\u001b[1;31m单击<a href='https://aka.ms/vscodeJupyterKernelCrash'>此处</a>了解详细信息。\n",
      "\u001b[1;31m有关更多详细信息，请查看 Jupyter <a href='command:jupyter.viewOutput'>log</a>。"
     ]
    }
   ],
   "source": [
    "keys"
   ]
  },
  {
   "cell_type": "markdown",
   "metadata": {},
   "source": [
    "# dif-gen split"
   ]
  },
  {
   "cell_type": "code",
   "execution_count": 35,
   "metadata": {},
   "outputs": [
    {
     "name": "stdout",
     "output_type": "stream",
     "text": [
      "real_celeba: 6000\n",
      "real_imagenet: 6000\n",
      "ldm-text2im-large-256: 6000\n",
      "controlnet-canny-sdxl-1.0: 6000\n",
      "lcm-lora-sdv1-5: 6000\n",
      "sd-turbo: 6000\n",
      "sdxl-turbo: 6000\n",
      "stable-diffusion-xl-refiner-1.0: 6000\n",
      "stable-diffusion-2-1: 6000\n",
      "styleGAN3: 6000\n",
      "styleGAN: 6000\n",
      "SNGAN: 6000\n",
      "ProGAN: 6000\n",
      "biggan: 6000\n",
      "real_celeba: 5000\n",
      "real_imagenet: 5000\n",
      "real_coco: 5000\n",
      "real_lsun: 5000\n",
      "real_pose: 1678\n",
      "ldm-text2im-large-256: 5000\n",
      "controlnet-canny-sdxl-1.0: 5000\n",
      "lcm-lora-sdv1-5: 5000\n",
      "sd-turbo: 5000\n",
      "sdxl-turbo: 5000\n",
      "stable-diffusion-xl-base-1.0: 5000\n",
      "stable-diffusion-xl-refiner-1.0: 5000\n",
      "stable-diffusion-2-1: 5000\n",
      "stable_diffusion_v_1_4: 5000\n",
      "ADM: 5000\n",
      "stable_diffusion_v_1_5: 5000\n",
      "glide: 5000\n",
      "wukong: 5000\n",
      "VQDM: 5000\n",
      "Midjourney: 5000\n",
      "styleGAN3: 5000\n",
      "styleGAN: 5000\n",
      "SNGAN: 5000\n",
      "ProGAN: 5000\n",
      "MMDGAN: 5000\n",
      "SAGAN: 5000\n",
      "S3GAN: 5000\n",
      "FaceShifter: 5000\n",
      "InfoMax-GAN: 5000\n",
      "wav2lip: 5000\n",
      "starGAN: 5000\n",
      "biggan: 5000\n",
      "FaceSwap: 5000\n",
      "styleGAN2: 5000\n",
      "ContraGAN: 5000\n",
      "AttGAN: 5000\n",
      "FSGAN: 5000\n",
      "VAR: 1000\n",
      "real_celeba: 1000\n",
      "real_imagenet: 1000\n",
      "ldm-text2im-large-256: 1000\n",
      "controlnet-canny-sdxl-1.0: 1000\n",
      "lcm-lora-sdv1-5: 1000\n",
      "sd-turbo: 1000\n",
      "sdxl-turbo: 1000\n",
      "stable-diffusion-xl-refiner-1.0: 1000\n",
      "stable-diffusion-2-1: 1000\n",
      "styleGAN3: 1000\n",
      "styleGAN: 1000\n",
      "SNGAN: 1000\n",
      "ProGAN: 1000\n",
      "biggan: 1000\n",
      "real_coco: 1000\n",
      "real_lsun: 1000\n",
      "real_pose: 1000\n",
      "stable-diffusion-xl-base-1.0: 1000\n",
      "stable_diffusion_v_1_4: 1000\n",
      "ADM: 1000\n",
      "stable_diffusion_v_1_5: 1000\n",
      "glide: 1000\n",
      "wukong: 1000\n",
      "VQDM: 1000\n",
      "Midjourney: 1000\n",
      "MMDGAN: 1000\n",
      "SAGAN: 1000\n",
      "S3GAN: 1000\n",
      "FaceShifter: 1000\n",
      "InfoMax-GAN: 1000\n",
      "wav2lip: 1000\n",
      "starGAN: 1000\n",
      "FaceSwap: 1000\n",
      "styleGAN2: 1000\n",
      "ContraGAN: 1000\n",
      "AttGAN: 1000\n",
      "FSGAN: 1000\n",
      "VAR: 1000\n"
     ]
    }
   ],
   "source": [
    "import os\n",
    "known_classes= ['real_celeba','real_imagenet', # seen real 2\n",
    "                'ldm-text2im-large-256','controlnet-canny-sdxl-1.0','lcm-lora-sdv1-5','sd-turbo',\n",
    "                'sdxl-turbo','stable-diffusion-xl-base-1.0',\n",
    "                'stable-diffusion-xl-refiner-1.0','stable-diffusion-2-1', ## seen diffusion 8 from drct\n",
    "                'stable_diffusion_v_1_4', ## seen diffusion 1 from gen image\n",
    "                'styleGAN3','styleGAN','SNGAN','ProGAN','biggan' # 5 seen gan from pose\n",
    "                  ] # as the train classes\n",
    "\n",
    "unknown_classes= ['real_coco', 'real_lsun', 'real_pose', \n",
    "                    'ADM', 'stable_diffusion_v_1_5', 'glide',\n",
    "                    'wukong', 'VQDM', 'Midjourney', \n",
    "                    'MMDGAN', 'SAGAN', 'S3GAN', \n",
    "                    'FaceShifter', 'InfoMax-GAN', 'wav2lip', \n",
    "                    'starGAN', 'FaceSwap', 'styleGAN2', \n",
    "                    'ContraGAN', 'AttGAN', 'FSGAN', \n",
    "                    'VAR']\n",
    "\n",
    "eval_classes= ['real_celeba','real_imagenet','real_coco','real_lsun','real_pose', # seen real 2 + unseen 3 = 5\n",
    "                'ldm-text2im-large-256','controlnet-canny-sdxl-1.0','lcm-lora-sdv1-5','sd-turbo',\n",
    "                'sdxl-turbo','stable-diffusion-xl-base-1.0',\n",
    "                'stable-diffusion-xl-refiner-1.0','stable-diffusion-2-1', ## seen diffusion 8 from drct\n",
    "                'stable_diffusion_v_1_4', ## seen diffusion 1 from gen image (total 9 seen)\n",
    "                'ADM','stable_diffusion_v_1_5','glide','wukong','VQDM','Midjourney', ## unseen diffusion from genimage 6\n",
    "                'styleGAN3','styleGAN','SNGAN','ProGAN','biggan', # 5 seen gan from pose\n",
    "                'SAGAN','S3GAN','FaceShifter','InfoMax-GAN',\n",
    "                'wav2lip','starGAN','BigGAN','FaceSwap',\n",
    "                'styleGAN2','ContraGAN','AttGAN','FSGAN', # 12 unseen gan from pose\n",
    "                'VAR' # unseen arch 1\n",
    "                ]\n",
    "\n",
    "base_dir = './dataset/' # data base\n",
    "data_base_dir = './dataset/dif-gan/mix_data_new'\n",
    "exp_name = '5gan-7dif-2real'\n",
    "os.makedirs(os.path.join(base_dir,exp_name),exist_ok=True)\n",
    "train_collections = exp_name+'_train'\n",
    "val_collections = exp_name+'_val'\n",
    "os.makedirs(os.path.join(base_dir,exp_name,train_collections,'annotations'),exist_ok=True)\n",
    "os.makedirs(os.path.join(base_dir,exp_name,val_collections,'annotations'),exist_ok=True)\n",
    "\n",
    "import random\n",
    "# train\n",
    "num_train = 5000\n",
    "num_val = 1000\n",
    "num_test = 1000\n",
    "train_res = []\n",
    "val_res = []\n",
    "# deal the real setting.\n",
    "for i,n in enumerate(known_classes):\n",
    "    path = os.path.join(data_base_dir,'train',n)\n",
    "    random.seed(0)\n",
    "    li = random.sample(os.listdir(path),k=num_train+num_val)\n",
    "    print(f\"{n}: {len(li)}\")\n",
    "    for it in li[:num_train]:\n",
    "        train_res.append(f\"{os.path.join(path,it)}\\t{i}\\n\")\n",
    "    for it in li[num_train:num_train+num_val]:\n",
    "        val_res.append(f\"{os.path.join(path,it)}\\t{i}\\n\")\n",
    "        \n",
    "\n",
    "with open(f'/home/lihao/python_proj/AIGC_2025/others_work/POSE/dataset/{exp_name}/{train_collections}/annotations/{train_collections}.txt','w' ) as f:\n",
    "    f.writelines(train_res)\n",
    "with open(f'/home/lihao/python_proj/AIGC_2025/others_work/POSE/dataset/{exp_name}/{val_collections}/annotations/{val_collections}.txt','w' ) as f:\n",
    "    f.writelines(val_res)\n",
    "# eval\n",
    "for i,n in enumerate(eval_classes):\n",
    "    path = os.path.join(data_base_dir,'eval',n)\n",
    "    li = os.listdir(path)\n",
    "    print(f\"{n}: {len(li)}\")\n",
    "    \n",
    "tn_res = []\n",
    "tu_res = []\n",
    "for i,n in enumerate(known_classes):\n",
    "    path = os.path.join(data_base_dir,'eval',n)\n",
    "    random.seed(0)\n",
    "    li = random.sample(os.listdir(path),k=num_test)\n",
    "    print(f\"{n}: {len(li)}\")\n",
    "    for it in li:\n",
    "        tn_res.append(f\"{os.path.join(path,it)}\\t{i}\\n\")\n",
    "\n",
    "unknown_classes = [x for x in eval_classes if x not in known_classes]\n",
    "for i,n in enumerate(unknown_classes):\n",
    "    path = os.path.join(data_base_dir,'eval',n)\n",
    "    random.seed(0)\n",
    "    li = random.sample(os.listdir(path),k=num_test)\n",
    "    print(f\"{n}: {len(li)}\")\n",
    "    for it in li:\n",
    "        tu_res.append(f\"{os.path.join(path,it)}\\t{i}\\n\")\n",
    "        \n",
    "\n",
    "with open(f'./dataset/{exp_name}/test_know_data.txt','w' ) as f:\n",
    "    f.writelines(tn_res)\n",
    "with open(f'./dataset/{exp_name}/test_unknow_data.txt','w' ) as f:\n",
    "    f.writelines(tu_res)\n",
    "\n",
    "import yaml\n",
    "# 将数据写入 YAML 文件\n",
    "data={\n",
    "    exp_name:{\n",
    "        'data_path': os.path.join(base_dir,exp_name),\n",
    "        'known_classes': known_classes,\n",
    "        'unknown_classes':unknown_classes,\n",
    "        'train_collection':train_collections,\n",
    "        'val_collection':val_collections,\n",
    "        'test_data_path': f'./dataset/{exp_name}/test_know_data.txt',\n",
    "        'out_data_path': f'./dataset/{exp_name}/test_unknow_data.txt'\n",
    "    }\n",
    "}\n",
    "with open('output.yaml', 'w') as file:\n",
    "    yaml.dump(data, file, default_flow_style=None,indent=4)"
   ]
  },
  {
   "cell_type": "code",
   "execution_count": 36,
   "metadata": {},
   "outputs": [
    {
     "data": {
      "text/plain": [
       "['real_celeba',\n",
       " 'real_imagenet',\n",
       " 'real_coco',\n",
       " 'real_lsun',\n",
       " 'real_pose',\n",
       " 'ldm-text2im-large-256',\n",
       " 'controlnet-canny-sdxl-1.0',\n",
       " 'lcm-lora-sdv1-5',\n",
       " 'sd-turbo',\n",
       " 'sdxl-turbo',\n",
       " 'stable-diffusion-xl-base-1.0',\n",
       " 'stable-diffusion-xl-refiner-1.0',\n",
       " 'stable-diffusion-2-1',\n",
       " 'stable_diffusion_v_1_4',\n",
       " 'ADM',\n",
       " 'stable_diffusion_v_1_5',\n",
       " 'glide',\n",
       " 'wukong',\n",
       " 'VQDM',\n",
       " 'Midjourney',\n",
       " 'styleGAN3',\n",
       " 'styleGAN',\n",
       " 'SNGAN',\n",
       " 'ProGAN',\n",
       " 'MMDGAN',\n",
       " 'SAGAN',\n",
       " 'S3GAN',\n",
       " 'FaceShifter',\n",
       " 'InfoMax-GAN',\n",
       " 'wav2lip',\n",
       " 'starGAN',\n",
       " 'biggan',\n",
       " 'FaceSwap',\n",
       " 'styleGAN2',\n",
       " 'ContraGAN',\n",
       " 'AttGAN',\n",
       " 'FSGAN',\n",
       " 'VAR']"
      ]
     },
     "execution_count": 36,
     "metadata": {},
     "output_type": "execute_result"
    }
   ],
   "source": [
    "eval_classes"
   ]
  },
  {
   "cell_type": "code",
   "execution_count": 1,
   "metadata": {},
   "outputs": [],
   "source": []
  }
 ],
 "metadata": {
  "kernelspec": {
   "display_name": "pose_test",
   "language": "python",
   "name": "python3"
  },
  "language_info": {
   "codemirror_mode": {
    "name": "ipython",
    "version": 3
   },
   "file_extension": ".py",
   "mimetype": "text/x-python",
   "name": "python",
   "nbconvert_exporter": "python",
   "pygments_lexer": "ipython3",
   "version": "3.9.19"
  }
 },
 "nbformat": 4,
 "nbformat_minor": 2
}
