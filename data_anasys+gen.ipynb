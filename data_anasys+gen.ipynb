{
 "cells": [
  {
   "cell_type": "code",
   "execution_count": 16,
   "metadata": {},
   "outputs": [],
   "source": [
    "def get_ids(anno):\n",
    "    with open(anno,'r') as f:\n",
    " lines = f.readlines()\n",
    "    # lines\n",
    "    ids={}\n",
    "    for it in lines:\n",
    " path, id = it.strip().split('\\t')\n",
    " if id not in ids:\n",
    "     ids[id]=path\n",
    "    return ids"
   ]
  },
  {
   "cell_type": "code",
   "execution_count": 17,
   "metadata": {},
   "outputs": [],
   "source": [
    "annos = [f'/home/lihao/python_proj/AIGC_2025/others_work/POSE/dataset/split{i}_train/annotations/split{i}_train.txt' for i in range(1,6)]\n",
    "idd = {i:get_ids(anno) for i,anno in enumerate(annos)}"
   ]
  },
  {
   "cell_type": "code",
   "execution_count": 18,
   "metadata": {},
   "outputs": [
    {
     "data": {
      "text/plain": [
       "{0: {'10': './dataset/OSMA/fake/FSGAN/youtube_c23/913_355.mp4/913_355_104.png',\n",
       "  '14': './dataset/OSMA/fake/ProGAN/bus/009730.png',\n",
       "  '9': './dataset/OSMA/fake/FaceSwap/youtube_c23/053_095/053_095_204.png',\n",
       "  '2': './dataset/OSMA/fake/starGAN/celeba/1873-images-Male.png',\n",
       "  '0': './dataset/OSMA/real/FF_c23_youtube/220/220_183.png',\n",
       "  '5': './dataset/OSMA/fake/SNGAN/imagenet/8709.png',\n",
       "  '11': './dataset/OSMA/fake/styleGAN/cat/009390.png',\n",
       "  '8': './dataset/OSMA/fake/MMDGAN/lsun_bedroom_200k_png/MMD_00018984.png',\n",
       "  '12': './dataset/OSMA/fake/styleGAN3/cat/005912.png',\n",
       "  '1': './dataset/OSMA/fake/ProGAN/multiseed_celeba/celeba_align_png_cropped_seed_v0/ProGAN_00000307.png',\n",
       "  '6': './dataset/OSMA/fake/SAGAN/imagenet/75/12791.png',\n",
       "  '4': './dataset/OSMA/fake/styleGAN3/stylegan3-t-ffhq-1024x1024/seed1189.png',\n",
       "  '3': './dataset/OSMA/fake/styleGAN3/stylegan3-r-ffhq-1024x1024/seed4515.png',\n",
       "  '13': './dataset/OSMA/fake/styleGAN/bus/010821.png',\n",
       "  '7': './dataset/OSMA/fake/ProGAN/multiseed_lsun/lsun_bedroom_200k_png_seed_v0/ProGAN_00003768.png'},\n",
       " 1: {'10': './dataset/OSMA/fake/FSGAN/youtube_c23/795_507.mp4/795_507_221.png',\n",
       "  '14': './dataset/OSMA/fake/styleGAN3/bus/008278.png',\n",
       "  '9': './dataset/OSMA/fake/FaceShifter/youtube_c23/t_338_s_537_20/00000009.png',\n",
       "  '2': './dataset/OSMA/fake/InfoMax-GAN/celeba_align_png_cropped/15605.png',\n",
       "  '0': './dataset/OSMA/real/FF_c23_youtube/049/049_92.png',\n",
       "  '5': './dataset/OSMA/fake/ContraGAN/imagenet/998/5976.png',\n",
       "  '11': './dataset/OSMA/fake/SNGAN/cat/008890.png',\n",
       "  '8': './dataset/OSMA/fake/SNGAN/lsun_bedroom_200k_png/SNGAN_00006422.png',\n",
       "  '12': './dataset/OSMA/fake/styleGAN2/cat/013209.png',\n",
       "  '1': './dataset/OSMA/fake/ProGAN/multiseed_celeba/celeba_align_png_cropped_seed_v1/ProGAN_00019181.png',\n",
       "  '6': './dataset/OSMA/fake/SNGAN/imagenet/991.png',\n",
       "  '4': './dataset/OSMA/fake/styleGAN3/stylegan3-t-ffhq-1024x1024/seed2598.png',\n",
       "  '3': './dataset/OSMA/fake/styleGAN/celebahq/StyleGAN_celebahq_s0_00001837.png',\n",
       "  '13': './dataset/OSMA/fake/styleGAN/bus/002329.png',\n",
       "  '7': './dataset/OSMA/fake/ProGAN/multiseed_lsun/lsun_bedroom_200k_png_seed_v1/ProGAN_00004618.png'},\n",
       " 2: {'10': './dataset/OSMA/fake/FaceShifter/youtube_c23/t_483_s_093_274/00000021.png',\n",
       "  '14': './dataset/OSMA/fake/MMDGAN/bus/009882.png',\n",
       "  '9': './dataset/OSMA/fake/FaceSwap/youtube_c23/053_095/053_095_204.png',\n",
       "  '2': './dataset/OSMA/fake/AttGAN/celeba/Brown_Hair_1001.png',\n",
       "  '0': './dataset/OSMA/real/FF_c23_youtube/220/220_183.png',\n",
       "  '5': './dataset/OSMA/fake/S3GAN/imagenet/00008251.png',\n",
       "  '11': './dataset/OSMA/fake/ProGAN/cat/009959.png',\n",
       "  '8': './dataset/OSMA/fake/InfoMax-GAN/lsun_bedroom_200k_png/16065.png',\n",
       "  '12': './dataset/OSMA/fake/SNGAN/cat/005747.png',\n",
       "  '1': './dataset/OSMA/fake/ProGAN/multiseed_celeba/celeba_align_png_cropped_seed_v2/ProGAN_00000307.png',\n",
       "  '6': './dataset/OSMA/fake/SNGAN/imagenet/377.png',\n",
       "  '4': './dataset/OSMA/fake/styleGAN3/stylegan3-t-ffhq-1024x1024/seed1189.png',\n",
       "  '3': './dataset/OSMA/fake/ProGAN/celebahq/ProGAN_celebhp_s0_00000677.png',\n",
       "  '13': './dataset/OSMA/fake/ProGAN/bus/010043.png',\n",
       "  '7': './dataset/OSMA/fake/ProGAN/multiseed_lsun/lsun_bedroom_200k_png_seed_v2/ProGAN_00003394.png'},\n",
       " 3: {'10': './dataset/OSMA/fake/FSGAN/youtube_c23/913_355.mp4/913_355_104.png',\n",
       "  '14': './dataset/OSMA/fake/MMDGAN/bus/009882.png',\n",
       "  '9': './dataset/OSMA/fake/wav2lip/youtube_c23/1473.mp4/1473_350.png',\n",
       "  '2': './dataset/OSMA/fake/SNGAN/celeba_align_png_cropped/SNGAN_00018159.png',\n",
       "  '0': './dataset/OSMA/real/FF_c23_youtube/220/220_183.png',\n",
       "  '5': './dataset/OSMA/fake/BigGAN/imagenet/642/1074.png',\n",
       "  '11': './dataset/OSMA/fake/ProGAN/cat/009959.png',\n",
       "  '8': './dataset/OSMA/fake/SNGAN/lsun_bedroom_200k_png/SNGAN_00002681.png',\n",
       "  '12': './dataset/OSMA/fake/MMDGAN/cat/005822.png',\n",
       "  '1': './dataset/OSMA/fake/ProGAN/multiseed_celeba/celeba_align_png_cropped_seed_v3/ProGAN_00002922.png',\n",
       "  '6': './dataset/OSMA/fake/ContraGAN/imagenet/671/11979.png',\n",
       "  '4': './dataset/OSMA/fake/ProGAN/celebahq/ProGAN_celebhp_s4_00018701.png',\n",
       "  '3': './dataset/OSMA/fake/styleGAN3/stylegan3-r-ffhq-1024x1024/seed4515.png',\n",
       "  '13': './dataset/OSMA/fake/SNGAN/bus/010906.png',\n",
       "  '7': './dataset/OSMA/fake/ProGAN/multiseed_lsun/lsun_bedroom_200k_png_seed_v3/ProGAN_00003394.png'},\n",
       " 4: {'10': './dataset/OSMA/fake/FaceSwap/youtube_c23/823_584/823_584_347.png',\n",
       "  '14': './dataset/OSMA/fake/ProGAN/bus/009730.png',\n",
       "  '9': './dataset/OSMA/fake/wav2lip/youtube_c23/1473.mp4/1473_350.png',\n",
       "  '2': './dataset/OSMA/fake/AttGAN/celeba/Brown_Hair_1001.png',\n",
       "  '0': './dataset/OSMA/real/FF_c23_youtube/220/220_183.png',\n",
       "  '5': './dataset/OSMA/fake/BigGAN/imagenet/642/1074.png',\n",
       "  '11': './dataset/OSMA/fake/styleGAN/cat/009390.png',\n",
       "  '8': './dataset/OSMA/fake/InfoMax-GAN/lsun_bedroom_200k_png/16065.png',\n",
       "  '12': './dataset/OSMA/fake/ProGAN/cat/005392.png',\n",
       "  '1': './dataset/OSMA/fake/ProGAN/multiseed_celeba/celeba_align_png_cropped_seed_v4/ProGAN_00002922.png',\n",
       "  '6': './dataset/OSMA/fake/ContraGAN/imagenet/671/11979.png',\n",
       "  '4': './dataset/OSMA/fake/styleGAN3/stylegan3-t-ffhq-1024x1024/seed1189.png',\n",
       "  '3': './dataset/OSMA/fake/styleGAN/celebahq/StyleGAN_celebahq_s0_00002182.png',\n",
       "  '13': './dataset/OSMA/fake/MMDGAN/bus/010676.png',\n",
       "  '7': './dataset/OSMA/fake/ProGAN/multiseed_lsun/lsun_bedroom_200k_png_seed_v4/ProGAN_00003394.png'}}"
      ]
     },
     "execution_count": 18,
     "metadata": {},
     "output_type": "execute_result"
    }
   ],
   "source": [
    "idd\n"
   ]
  },
  {
   "cell_type": "code",
   "execution_count": 19,
   "metadata": {},
   "outputs": [],
   "source": [
    "new_idd = {k:sorted(idd[k].items()) for k in idd}"
   ]
  },
  {
   "cell_type": "code",
   "execution_count": 24,
   "metadata": {},
   "outputs": [
    {
     "name": "stdout",
     "output_type": "stream",
     "text": [
      "数据已成功保存到 output.csv\n"
     ]
    }
   ],
   "source": [
    "lines = []\n",
    "for it1,it2,it3,it4,it5 in zip(new_idd[0],new_idd[1],new_idd[2],new_idd[3],new_idd[4]):\n",
    "    for it in zip(it1,it2,it3,it4,it5):\n",
    "        lines.append(it)\n",
    "\n",
    "import csv\n",
    "file_name = \"output.csv\"\n",
    "# 打开文件并写入\n",
    "with open(file_name, mode=\"w\", newline=\"\", encoding=\"utf-8\") as file:\n",
    "    writer = csv.writer(file)\n",
    "    # 写入嵌套列表中的每一行\n",
    "    writer.writerows(lines)\n",
    "\n",
    "print(f\"数据已成功保存到 {file_name}\")\n"
   ]
  },
  {
   "cell_type": "code",
   "execution_count": 23,
   "metadata": {},
   "outputs": [
    {
     "data": {
      "text/plain": [
       "[('0', './dataset/OSMA/real/FF_c23_youtube/220/220_183.png'),\n",
       " ('1',\n",
       "  './dataset/OSMA/fake/ProGAN/multiseed_celeba/celeba_align_png_cropped_seed_v0/ProGAN_00000307.png'),\n",
       " ('10', './dataset/OSMA/fake/FSGAN/youtube_c23/913_355.mp4/913_355_104.png'),\n",
       " ('11', './dataset/OSMA/fake/styleGAN/cat/009390.png'),\n",
       " ('12', './dataset/OSMA/fake/styleGAN3/cat/005912.png'),\n",
       " ('13', './dataset/OSMA/fake/styleGAN/bus/010821.png'),\n",
       " ('14', './dataset/OSMA/fake/ProGAN/bus/009730.png'),\n",
       " ('2', './dataset/OSMA/fake/starGAN/celeba/1873-images-Male.png'),\n",
       " ('3',\n",
       "  './dataset/OSMA/fake/styleGAN3/stylegan3-r-ffhq-1024x1024/seed4515.png'),\n",
       " ('4',\n",
       "  './dataset/OSMA/fake/styleGAN3/stylegan3-t-ffhq-1024x1024/seed1189.png'),\n",
       " ('5', './dataset/OSMA/fake/SNGAN/imagenet/8709.png'),\n",
       " ('6', './dataset/OSMA/fake/SAGAN/imagenet/75/12791.png'),\n",
       " ('7',\n",
       "  './dataset/OSMA/fake/ProGAN/multiseed_lsun/lsun_bedroom_200k_png_seed_v0/ProGAN_00003768.png'),\n",
       " ('8', './dataset/OSMA/fake/MMDGAN/lsun_bedroom_200k_png/MMD_00018984.png'),\n",
       " ('9', './dataset/OSMA/fake/FaceSwap/youtube_c23/053_095/053_095_204.png')]"
      ]
     },
     "execution_count": 23,
     "metadata": {},
     "output_type": "execute_result"
    }
   ],
   "source": [
    "new_idd[0]"
   ]
  },
  {
   "cell_type": "code",
   "execution_count": 48,
   "metadata": {},
   "outputs": [
    {
     "data": {
      "text/plain": [
       "[('0', './dataset/OSMA/fake/MMDGAN/airplane/003796.png'),\n",
       " ('1', './dataset/OSMA/fake/MMDGAN/bridge/003041.png'),\n",
       " ('10', './dataset/OSMA/fake/styleGAN/classroom/003041.png'),\n",
       " ('11', './dataset/OSMA/fake/styleGAN/cow/003041.png'),\n",
       " ('12', './dataset/OSMA/fake/styleGAN/kitchen/003041.png'),\n",
       " ('13', './dataset/OSMA/fake/styleGAN/sheep/003041.png'),\n",
       " ('14', './dataset/OSMA/fake/ProGAN/airplane/003041.png'),\n",
       " ('15', './dataset/OSMA/fake/ProGAN/bridge/003041.png'),\n",
       " ('16', './dataset/OSMA/fake/ProGAN/church_outdoor/003041.png'),\n",
       " ('17', './dataset/OSMA/fake/ProGAN/classroom/003041.png'),\n",
       " ('18', './dataset/OSMA/fake/ProGAN/cow/003041.png'),\n",
       " ('19', './dataset/OSMA/fake/ProGAN/kitchen/003796.png'),\n",
       " ('2', './dataset/OSMA/fake/MMDGAN/church_outdoor/003041.png'),\n",
       " ('20', './dataset/OSMA/fake/ProGAN/sheep/003041.png'),\n",
       " ('3', './dataset/OSMA/fake/MMDGAN/classroom/003041.png'),\n",
       " ('4', './dataset/OSMA/fake/MMDGAN/cow/003041.png'),\n",
       " ('5', './dataset/OSMA/fake/MMDGAN/kitchen/003041.png'),\n",
       " ('6', './dataset/OSMA/fake/MMDGAN/sheep/003952.png'),\n",
       " ('7', './dataset/OSMA/fake/styleGAN/airplane/003041.png'),\n",
       " ('8', './dataset/OSMA/fake/styleGAN/bridge/003041.png'),\n",
       " ('9', './dataset/OSMA/fake/styleGAN/church_outdoor/003952.png')]"
      ]
     },
     "execution_count": 48,
     "metadata": {},
     "output_type": "execute_result"
    }
   ],
   "source": [
    "sorted(get_ids('/home/lihao/python_proj/AIGC_2025/others_work/POSE/dataset/split5_test/annotations/split5_test_out_dataset.txt').items())"
   ]
  },
  {
   "cell_type": "code",
   "execution_count": 35,
   "metadata": {},
   "outputs": [],
   "source": [
    "import yaml\n",
    "with open('/home/lihao/python_proj/AIGC_2025/others_work/POSE/configs/data_list.yaml') as f:\n",
    "    data = yaml.safe_load(f)"
   ]
  },
  {
   "cell_type": "code",
   "execution_count": 46,
   "metadata": {},
   "outputs": [
    {
     "name": "stdout",
     "output_type": "stream",
     "text": [
      "known_classes len: 15   ['real', 'celeba_ProGAN_seed1', 'celeba_InfomaxGAN', 'CelebA_HQ_StyleGAN', 'FFHQ_StyleGAN3_t', 'ContraGAN_imagenet', 'SNGAN_imagenet', 'lsun_ProGAN_seed1', 'lsun_SNGAN', 'Faceshifter', 'FSGAN', 'sngan_cat', 'stylegan2_cat', 'stylegan_bus', 'stylegan3_bus']\n",
      "unknown_classes1 len: 10   ['celeba_ProGAN_seed0', 'celeba_ProGAN_seed2', 'celeba_ProGAN_seed3', 'celeba_ProGAN_seed4', 'celeba_ProGAN_seed5', 'lsun_ProGAN_seed0', 'lsun_ProGAN_seed2', 'lsun_ProGAN_seed3', 'lsun_ProGAN_seed4', 'lsun_ProGAN_seed5']\n",
      "unknown_classes2 len: 22   ['celeba_MMDGAN', 'celeba_StarGAN', 'celeba_AttGAN', 'celeba_SNGAN', 'FFHQ_StyleGAN2', 'FFHQ_StyleGAN3_r', 'CelebA_HQ_ProGAN', 'BigGAN_imagenet', 'SAGAN_imagenet', 'S3GAN_imagenet', 'lsun_MMDGAN', 'lsun_InfomaxGAN', 'FaceSwap', 'wav2lip', 'stylegan_cat', 'stylegan3_cat', 'progan_cat', 'mmdgan_cat', 'stylegan2_bus', 'progan_bus', 'mmdgan_bus', 'sngan_bus']\n",
      "unknown_classes3 len: 21   ['stylegan_airplane', 'stylegan_bridge', 'stylegan_church_outdoor', 'stylegan_classroom', 'stylegan_cow', 'stylegan_kitchen', 'stylegan_sheep', 'stylegan3_airplane', 'stylegan3_bridge', 'stylegan3_church_outdoor', 'stylegan3_classroom', 'stylegan3_cow', 'stylegan3_kitchen', 'stylegan3_sheep', 'sngan_airplane', 'sngan_bridge', 'sngan_church_outdoor', 'sngan_classroom', 'sngan_cow', 'sngan_kitchen', 'sngan_sheep']\n"
     ]
    }
   ],
   "source": [
    "split = 'split2'\n",
    "for k in data[split].keys():\n",
    "    if 'class' in k:\n",
    "        print(f\"{k} len: {len(data[split][k])}   {data[split][k]}\")"
   ]
  },
  {
   "cell_type": "code",
   "execution_count": 49,
   "metadata": {},
   "outputs": [],
   "source": [
    "with open('/home/lihao/python_proj/AIGC_2025/others_work/POSE/dataset/split3_train/annotations/split3_train.txt','r' ) as f:\n",
    "    data = f.readlines()\n",
    "    "
   ]
  },
  {
   "cell_type": "code",
   "execution_count": 50,
   "metadata": {},
   "outputs": [
    {
     "data": {
      "text/plain": [
       "59998"
      ]
     },
     "execution_count": 50,
     "metadata": {},
     "output_type": "execute_result"
    }
   ],
   "source": [
    "len(data)"
   ]
  },
  {
   "cell_type": "code",
   "execution_count": 53,
   "metadata": {},
   "outputs": [
    {
     "data": {
      "text/plain": [
       "8000"
      ]
     },
     "execution_count": 53,
     "metadata": {},
     "output_type": "execute_result"
    }
   ],
   "source": [
    "with open('/home/lihao/python_proj/AIGC_2025/others_work/POSE/dataset/split4_test/annotations/split4_test.txt','r' ) as f:\n",
    "    data = f.readlines()\n",
    "len(data)"
   ]
  },
  {
   "cell_type": "code",
   "execution_count": 55,
   "metadata": {},
   "outputs": [
    {
     "data": {
      "text/plain": [
       "11000"
      ]
     },
     "execution_count": 55,
     "metadata": {},
     "output_type": "execute_result"
    }
   ],
   "source": [
    "with open('/home/lihao/python_proj/AIGC_2025/others_work/POSE/dataset/split5_test/annotations/split5_test_out_arch.txt','r' ) as f:\n",
    "    data = f.readlines()\n",
    "len(data)"
   ]
  },
  {
   "cell_type": "code",
   "execution_count": 56,
   "metadata": {},
   "outputs": [
    {
     "data": {
      "text/plain": [
       "{'13': './dataset/OSMA/fake/SNGAN/bus/005626.png',\n",
       " '11': './dataset/OSMA/fake/ProGAN/cat/010384.png',\n",
       " '2': './dataset/OSMA/fake/SNGAN/celeba_align_png_cropped/SNGAN_00002202.png',\n",
       " '9': './dataset/OSMA/fake/wav2lip/youtube_c23/1071.mp4/1071_1432.png',\n",
       " '3': './dataset/OSMA/fake/styleGAN3/stylegan3-r-ffhq-1024x1024/seed3578.png',\n",
       " '6': './dataset/OSMA/fake/ContraGAN/imagenet/464/11732.png',\n",
       " '10': './dataset/OSMA/fake/FSGAN/youtube_c23/453_659.mp4/453_659_157.png',\n",
       " '5': './dataset/OSMA/fake/BigGAN/imagenet/489/10488.png',\n",
       " '12': './dataset/OSMA/fake/MMDGAN/cat/010651.png',\n",
       " '14': './dataset/OSMA/fake/MMDGAN/bus/009253.png',\n",
       " '8': './dataset/OSMA/fake/SNGAN/lsun_bedroom_200k_png/SNGAN_00001148.png',\n",
       " '1': './dataset/OSMA/fake/ProGAN/multiseed_celeba/celeba_align_png_cropped_seed_v3/ProGAN_00003080.png',\n",
       " '4': './dataset/OSMA/fake/ProGAN/celebahq/ProGAN_celebhp_s3_00014405.png',\n",
       " '0': './dataset/OSMA/real/FF_c23_youtube/937/937_224.png',\n",
       " '7': './dataset/OSMA/fake/ProGAN/multiseed_lsun/lsun_bedroom_200k_png_seed_v3/ProGAN_00003290.png'}"
      ]
     },
     "execution_count": 56,
     "metadata": {},
     "output_type": "execute_result"
    }
   ],
   "source": [
    "get_ids('/home/lihao/python_proj/AIGC_2025/others_work/POSE/dataset/split4_test/annotations/split4_test.txt')"
   ]
  },
  {
   "cell_type": "code",
   "execution_count": 57,
   "metadata": {},
   "outputs": [],
   "source": [
    "known_classes = ['real', 'celeba_ProGAN_seed0', 'celeba_StarGAN', 'FFHQ_StyleGAN3_r', 'FFHQ_StyleGAN3_t', 'SNGAN_imagenet', 'SAGAN_imagenet', 'lsun_ProGAN_seed0', 'lsun_MMDGAN', 'FaceSwap', 'FSGAN', 'stylegan_cat', 'stylegan3_cat', 'stylegan_bus', 'progan_bus']\n",
    "unknown_classes = ['celeba_MMDGAN', 'celeba_AttGAN', 'celeba_SNGAN', 'celeba_InfomaxGAN', \\\n",
    "                   'FFHQ_StyleGAN2', 'CelebA_HQ_ProGAN', 'CelebA_HQ_StyleGAN', \\\n",
    "                   'BigGAN_imagenet', 'S3GAN_imagenet', 'ContraGAN_imagenet', \\\n",
    "                   'lsun_SNGAN', 'lsun_InfomaxGAN', \\\n",
    "                   'Faceshifter', 'wav2lip', \\\n",
    "                   'stylegan2_cat', 'progan_cat', 'mmdgan_cat', 'sngan_cat', \\\n",
    "                   'stylegan2_bus', 'stylegan3_bus', 'mmdgan_bus', 'sngan_bus']"
   ]
  },
  {
   "cell_type": "code",
   "execution_count": 58,
   "metadata": {},
   "outputs": [
    {
     "data": {
      "text/plain": [
       "15"
      ]
     },
     "execution_count": 58,
     "metadata": {},
     "output_type": "execute_result"
    }
   ],
   "source": [
    "len(known_classes)"
   ]
  },
  {
   "cell_type": "code",
   "execution_count": 59,
   "metadata": {},
   "outputs": [
    {
     "data": {
      "text/plain": [
       "22"
      ]
     },
     "execution_count": 59,
     "metadata": {},
     "output_type": "execute_result"
    }
   ],
   "source": [
    "len(unknown_classes)"
   ]
  },
  {
   "cell_type": "markdown",
   "metadata": {},
   "source": [
    "## 生成测试数据"
   ]
  },
  {
   "cell_type": "code",
   "execution_count": 8,
   "metadata": {},
   "outputs": [],
   "source": [
    "# todo:diffusion 采样5000条数据，写在路径中\n",
    "import random\n",
    "import os\n",
    "from PIL import Image\n",
    "\n",
    "gen_image_path = '/home/lihao/python_proj/AIGC_2025/others_work/POSE/genimage/genimage'\n",
    "file_dict = {}\n",
    "for r in os.listdir(gen_image_path):\n",
    "    if 'gan' not in r and 'VAR' not in r :\n",
    "        d = os.path.join(gen_image_path,r)\n",
    "        for rr in os.listdir(d):\n",
    "            if os.path.isdir(os.path.join(d,rr)):\n",
    "                dd = os.path.join(d,rr,'train','ai')\n",
    "                file_names = os.listdir(dd)\n",
    "                file_dict[r] = [os.path.join(dd,x) for x in file_names]\n",
    "\n",
    "                \n",
    "\n",
    "# select names:\n",
    "genimage_result = {}\n",
    "for k in file_dict:\n",
    "    li = file_dict[k]\n",
    "    random.seed(0)\n",
    "    genimage_result[k]=random.choices(li,k=5000)\n",
    "    "
   ]
  },
  {
   "cell_type": "code",
   "execution_count": 17,
   "metadata": {},
   "outputs": [],
   "source": [
    "# sample from DRCT-2M\n",
    "names = ['ldm-text2im-large-256', #\n",
    " 'controlnet-canny-sdxl-1.0', # \n",
    " 'lcm-lora-sdv1-5', # \n",
    " 'sd-turbo', #\n",
    " 'sdxl-turbo', #\n",
    " 'stable-diffusion-xl-base-1.0', #\n",
    " 'stable-diffusion-xl-refiner-1.0', #\n",
    " 'stable-diffusion-2-1'] #\n",
    "drct_path = '/home/lihao/python_proj/AIGC_2025/others_work/POSE/genimage/AIGC_Datasets/DRCT-2M/images'\n",
    "drct_dict = {}\n",
    "for n in names:\n",
    "    d = os.path.join(drct_path,n,'train2017')\n",
    "    random.seed(0)\n",
    "    drct_dict[n] = [os.path.join(d,x) for x in random.choices(os.listdir(d),k=5000)]\n"
   ]
  },
  {
   "cell_type": "code",
   "execution_count": 18,
   "metadata": {},
   "outputs": [],
   "source": [
    "from PIL import Image\n",
    "\n",
    "def is_image_openable(image_path):\n",
    "    \"\"\"\n",
    "    检测图片是否能够正确打开\n",
    "    :param image_path: 图片文件路径\n",
    "    :return: True (图片可打开) 或 False (图片不可打开)\n",
    "    \"\"\"\n",
    "    try:\n",
    "        with Image.open(image_path) as img:\n",
    "            img.verify()  # 验证图片文件是否完整\n",
    "        return True\n",
    "    except Exception as e:\n",
    "        print(e)\n",
    "        return False\n",
    "\n",
    "all_res = genimage_result | drct_dict\n",
    "keys = []\n",
    "datalist = []\n",
    "for k in all_res:\n",
    "    keys.append(k)\n",
    "    datalist += [x for x in all_res[k] if is_image_openable(x)]"
   ]
  },
  {
   "cell_type": "code",
   "execution_count": 19,
   "metadata": {},
   "outputs": [
    {
     "data": {
      "text/plain": [
       "15"
      ]
     },
     "execution_count": 19,
     "metadata": {},
     "output_type": "execute_result"
    }
   ],
   "source": [
    "len(keys)"
   ]
  },
  {
   "cell_type": "code",
   "execution_count": 20,
   "metadata": {},
   "outputs": [
    {
     "data": {
      "text/plain": [
       "75000"
      ]
     },
     "execution_count": 20,
     "metadata": {},
     "output_type": "execute_result"
    }
   ],
   "source": [
    "len(datalist)"
   ]
  },
  {
   "cell_type": "code",
   "execution_count": 21,
   "metadata": {},
   "outputs": [],
   "source": [
    "import json\n",
    "with open('/home/lihao/python_proj/AIGC_2025/others_work/POSE/dataset/diffusion_test/detailed_info.json', 'w', encoding='utf-8') as file:\n",
    "    json.dump(all_res, file, ensure_ascii=False, indent=2)"
   ]
  },
  {
   "cell_type": "code",
   "execution_count": 22,
   "metadata": {},
   "outputs": [],
   "source": [
    "with open('/home/lihao/python_proj/AIGC_2025/others_work/POSE/dataset/diffusion_test/out.txt','w') as f:\n",
    "    for i,k in enumerate(all_res):\n",
    "        for p in all_res[k]:\n",
    "            f.write(f'{p}\\t{i}\\n')\n",
    "        "
   ]
  },
  {
   "cell_type": "code",
   "execution_count": 23,
   "metadata": {},
   "outputs": [
    {
     "data": {
      "text/plain": [
       "['ADM',\n",
       " 'stable_diffusion_v_1_5',\n",
       " 'stable_diffusion_v_1_4',\n",
       " 'glide',\n",
       " 'wukong',\n",
       " 'VQDM',\n",
       " 'Midjourney',\n",
       " 'ldm-text2im-large-256',\n",
       " 'controlnet-canny-sdxl-1.0',\n",
       " 'lcm-lora-sdv1-5',\n",
       " 'sd-turbo',\n",
       " 'sdxl-turbo',\n",
       " 'stable-diffusion-xl-base-1.0',\n",
       " 'stable-diffusion-xl-refiner-1.0',\n",
       " 'stable-diffusion-2-1']"
      ]
     },
     "execution_count": 23,
     "metadata": {},
     "output_type": "execute_result"
    },
    {
     "ename": "",
     "evalue": "",
     "output_type": "error",
     "traceback": [
      "\u001b[1;31m在当前单元格或上一个单元格中执行代码时 Kernel 崩溃。\n",
      "\u001b[1;31m请查看单元格中的代码，以确定故障的可能原因。\n",
      "\u001b[1;31m单击<a href='https://aka.ms/vscodeJupyterKernelCrash'>此处</a>了解详细信息。\n",
      "\u001b[1;31m有关更多详细信息，请查看 Jupyter <a href='command:jupyter.viewOutput'>log</a>。"
     ]
    }
   ],
   "source": [
    "keys"
   ]
  }
 ],
 "metadata": {
  "kernelspec": {
   "display_name": "pose_test",
   "language": "python",
   "name": "python3"
  },
  "language_info": {
   "codemirror_mode": {
    "name": "ipython",
    "version": 3
   },
   "file_extension": ".py",
   "mimetype": "text/x-python",
   "name": "python",
   "nbconvert_exporter": "python",
   "pygments_lexer": "ipython3",
   "version": "3.9.19"
  }
 },
 "nbformat": 4,
 "nbformat_minor": 2
}
